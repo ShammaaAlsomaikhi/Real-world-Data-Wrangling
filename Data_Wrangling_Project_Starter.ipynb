{
 "cells": [
  {
   "cell_type": "markdown",
   "metadata": {
    "id": "GNIwe5N7s0e_"
   },
   "source": [
    "# Real-world Data Wrangling"
   ]
  },
  {
   "cell_type": "code",
   "execution_count": 540,
   "metadata": {},
   "outputs": [],
   "source": [
    "#Here we will import all the libraries we need\n",
    "import numpy as np\n",
    "import pandas as pd\n",
    "from matplotlib import pyplot as plt\n",
    "import zipfile\n",
    "import seaborn as sns\n"
   ]
  },
  {
   "cell_type": "markdown",
   "metadata": {
    "id": "lDYDkH-Zs7Nn"
   },
   "source": [
    "## 1. Gather data\n",
    "\n"
   ]
  },
  {
   "cell_type": "markdown",
   "metadata": {
    "id": "LbN7z7rcuqpO"
   },
   "source": [
    "### **1.1.** Problem Statement\n"
   ]
  },
  {
   "cell_type": "markdown",
   "metadata": {
    "id": "gi6swhjSYqu2"
   },
   "source": [
    "In this research we took a group of students and group of employees and combine them together to find if:\n",
    "\n",
    "* Does the remote work/study arrangement affect the likelihood of using counseling services? \n",
    "\n",
    "* Does having a family history of mental health issues impact the use of counseling services?\n",
    "\n",
    "* Is there a difference in social support levels between students and employees?"
   ]
  },
  {
   "cell_type": "markdown",
   "metadata": {
    "id": "8AQfBAdUypMm"
   },
   "source": [
    "### **1.2.** Gather at least two datasets using two different data gathering methods"
   ]
  },
  {
   "cell_type": "markdown",
   "metadata": {
    "id": "7e6gS0wL1KTu"
   },
   "source": [
    "#### **Dataset 1: covers student mental health**\n",
    "\n",
    "Type: CSV File in zip file.\n",
    "\n",
    "Method: This dataset was programmatically downloaded using the Kaggle API.\n",
    "\n",
    "The source: https://www.kaggle.com/datasets/sonia22222/students-mental-health-assessments/data\n",
    "\n",
    "Dataset variables:\n",
    "\n",
    "*   *Age*\n",
    "\n",
    "*   *Course: student's major or field of study.*\n",
    "\n",
    "*   *Gender*\n",
    "\n",
    "*   *CGPA: Cumulative Grade Point Average.*\n",
    "\n",
    "*   *Stress_Level: The level of stress experienced by the individual.*\n",
    "\n",
    "*   *Depression_Score: The score representing the level of depression experienced by the individual.*\n",
    "\n",
    "*   *Anxiety_Score: The score representing the level of anxiety experienced by the individual.*\n",
    "\n",
    "*   *Sleep_Quality: The quality of sleep experienced by the individual .*\n",
    "\n",
    "*   *Physical_Activity: The level of physical activity .*\n",
    "\n",
    "*   *Diet_Quality: The quality of the individual's diet.*\n",
    "\n",
    "*   *Social_Support: The level of social support received by the individual.*\n",
    "\n",
    "*   *Substance_Use: The frequency of substance use such as alcohol, cigarettes or other drugs.* \n",
    "\n",
    "*   *Counseling_Service_Use: refers to whether or not the student has utilized counseling services provided by their educational institution.*\n",
    "\n",
    "*   *Family_History: Whether the individual has a family history of mental health issues.*\n",
    "\n",
    "*   *Chronic_Illness: Financial_Stress: The level of financial stress experienced by the individual (between 0 and 5).*\n",
    "\n",
    "*   *Financial_Stress*\t\n",
    "\n",
    "*   *Extracurricular_Involvement*\n",
    "\n",
    "*   *Semester_Credit_Load: The number of credits the individual is taking in the semester (15-30).*\n",
    "*   *Residence_Type: on or off campus.*"
   ]
  },
  {
   "cell_type": "code",
   "execution_count": 541,
   "metadata": {},
   "outputs": [
    {
     "name": "stdout",
     "output_type": "stream",
     "text": [
      "Requirement already satisfied: kaggle in /Users/shammaaas/opt/anaconda3/lib/python3.8/site-packages (1.5.16)\n",
      "Requirement already satisfied: six>=1.10 in /Users/shammaaas/opt/anaconda3/lib/python3.8/site-packages (from kaggle) (1.16.0)\n",
      "Requirement already satisfied: certifi in /Users/shammaaas/opt/anaconda3/lib/python3.8/site-packages (from kaggle) (2023.7.22)\n",
      "Requirement already satisfied: python-dateutil in /Users/shammaaas/opt/anaconda3/lib/python3.8/site-packages (from kaggle) (2.8.1)\n",
      "Requirement already satisfied: requests in /Users/shammaaas/opt/anaconda3/lib/python3.8/site-packages (from kaggle) (2.25.1)\n",
      "Requirement already satisfied: tqdm in /Users/shammaaas/opt/anaconda3/lib/python3.8/site-packages (from kaggle) (4.61.1)\n",
      "Requirement already satisfied: python-slugify in /Users/shammaaas/opt/anaconda3/lib/python3.8/site-packages (from kaggle) (8.0.1)\n",
      "Requirement already satisfied: urllib3 in /Users/shammaaas/opt/anaconda3/lib/python3.8/site-packages (from kaggle) (1.26.6)\n",
      "Requirement already satisfied: bleach in /Users/shammaaas/opt/anaconda3/lib/python3.8/site-packages (from kaggle) (3.3.0)\n",
      "Requirement already satisfied: packaging in /Users/shammaaas/opt/anaconda3/lib/python3.8/site-packages (from bleach->kaggle) (20.9)\n",
      "Requirement already satisfied: webencodings in /Users/shammaaas/opt/anaconda3/lib/python3.8/site-packages (from bleach->kaggle) (0.5.1)\n",
      "Requirement already satisfied: text-unidecode>=1.3 in /Users/shammaaas/opt/anaconda3/lib/python3.8/site-packages (from python-slugify->kaggle) (1.3)\n",
      "Requirement already satisfied: chardet<5,>=3.0.2 in /Users/shammaaas/opt/anaconda3/lib/python3.8/site-packages (from requests->kaggle) (4.0.0)\n",
      "Requirement already satisfied: idna<3,>=2.5 in /Users/shammaaas/opt/anaconda3/lib/python3.8/site-packages (from requests->kaggle) (2.10)\n",
      "Requirement already satisfied: pyparsing>=2.0.2 in /Users/shammaaas/opt/anaconda3/lib/python3.8/site-packages (from packaging->bleach->kaggle) (2.4.7)\n",
      "\u001b[33mDEPRECATION: pyodbc 4.0.0-unsupported has a non-standard version number. pip 23.3 will enforce this behaviour change. A possible replacement is to upgrade to a newer version of pyodbc or contact the author to suggest that they release a version with a conforming version number. Discussion can be found at https://github.com/pypa/pip/issues/12063\u001b[0m\u001b[33m\n",
      "\u001b[0m"
     ]
    }
   ],
   "source": [
    "!pip install kaggle"
   ]
  },
  {
   "cell_type": "code",
   "execution_count": 542,
   "metadata": {},
   "outputs": [
    {
     "name": "stdout",
     "output_type": "stream",
     "text": [
      "students-mental-health-assessments.zip: Skipping, found more recently modified local copy (use --force to force download)\r\n"
     ]
    }
   ],
   "source": [
    "!kaggle datasets download -d sonia22222/students-mental-health-assessments"
   ]
  },
  {
   "cell_type": "code",
   "execution_count": 543,
   "metadata": {},
   "outputs": [
    {
     "name": "stdout",
     "output_type": "stream",
     "text": [
      "unzip:  cannot find or open students-mental-health-assessments.zip.zip, students-mental-health-assessments.zip.zip.zip or students-mental-health-assessments.zip.zip.ZIP.\r\n"
     ]
    }
   ],
   "source": [
    "!unzip students-mental-health-assessments.zip.zip"
   ]
  },
  {
   "cell_type": "code",
   "execution_count": 544,
   "metadata": {},
   "outputs": [
    {
     "data": {
      "text/html": [
       "<div>\n",
       "<style scoped>\n",
       "    .dataframe tbody tr th:only-of-type {\n",
       "        vertical-align: middle;\n",
       "    }\n",
       "\n",
       "    .dataframe tbody tr th {\n",
       "        vertical-align: top;\n",
       "    }\n",
       "\n",
       "    .dataframe thead th {\n",
       "        text-align: right;\n",
       "    }\n",
       "</style>\n",
       "<table border=\"1\" class=\"dataframe\">\n",
       "  <thead>\n",
       "    <tr style=\"text-align: right;\">\n",
       "      <th></th>\n",
       "      <th>Age</th>\n",
       "      <th>Course</th>\n",
       "      <th>Gender</th>\n",
       "      <th>CGPA</th>\n",
       "      <th>Stress_Level</th>\n",
       "      <th>Depression_Score</th>\n",
       "      <th>Anxiety_Score</th>\n",
       "      <th>Sleep_Quality</th>\n",
       "      <th>Physical_Activity</th>\n",
       "      <th>Diet_Quality</th>\n",
       "      <th>Social_Support</th>\n",
       "      <th>Relationship_Status</th>\n",
       "      <th>Substance_Use</th>\n",
       "      <th>Counseling_Service_Use</th>\n",
       "      <th>Family_History</th>\n",
       "      <th>Chronic_Illness</th>\n",
       "      <th>Financial_Stress</th>\n",
       "      <th>Extracurricular_Involvement</th>\n",
       "      <th>Semester_Credit_Load</th>\n",
       "      <th>Residence_Type</th>\n",
       "    </tr>\n",
       "  </thead>\n",
       "  <tbody>\n",
       "    <tr>\n",
       "      <th>0</th>\n",
       "      <td>25</td>\n",
       "      <td>Others</td>\n",
       "      <td>Male</td>\n",
       "      <td>3.56</td>\n",
       "      <td>3</td>\n",
       "      <td>3</td>\n",
       "      <td>2</td>\n",
       "      <td>Good</td>\n",
       "      <td>Moderate</td>\n",
       "      <td>Good</td>\n",
       "      <td>Moderate</td>\n",
       "      <td>Married</td>\n",
       "      <td>Never</td>\n",
       "      <td>Never</td>\n",
       "      <td>No</td>\n",
       "      <td>No</td>\n",
       "      <td>2</td>\n",
       "      <td>Moderate</td>\n",
       "      <td>17</td>\n",
       "      <td>On-Campus</td>\n",
       "    </tr>\n",
       "    <tr>\n",
       "      <th>1</th>\n",
       "      <td>24</td>\n",
       "      <td>Engineering</td>\n",
       "      <td>Female</td>\n",
       "      <td>2.44</td>\n",
       "      <td>0</td>\n",
       "      <td>3</td>\n",
       "      <td>0</td>\n",
       "      <td>Average</td>\n",
       "      <td>Low</td>\n",
       "      <td>Average</td>\n",
       "      <td>Low</td>\n",
       "      <td>Single</td>\n",
       "      <td>Occasionally</td>\n",
       "      <td>Occasionally</td>\n",
       "      <td>No</td>\n",
       "      <td>No</td>\n",
       "      <td>3</td>\n",
       "      <td>Low</td>\n",
       "      <td>27</td>\n",
       "      <td>On-Campus</td>\n",
       "    </tr>\n",
       "    <tr>\n",
       "      <th>2</th>\n",
       "      <td>19</td>\n",
       "      <td>Business</td>\n",
       "      <td>Female</td>\n",
       "      <td>3.74</td>\n",
       "      <td>4</td>\n",
       "      <td>0</td>\n",
       "      <td>3</td>\n",
       "      <td>Good</td>\n",
       "      <td>Low</td>\n",
       "      <td>Average</td>\n",
       "      <td>Moderate</td>\n",
       "      <td>In a Relationship</td>\n",
       "      <td>Never</td>\n",
       "      <td>Occasionally</td>\n",
       "      <td>No</td>\n",
       "      <td>No</td>\n",
       "      <td>4</td>\n",
       "      <td>High</td>\n",
       "      <td>15</td>\n",
       "      <td>On-Campus</td>\n",
       "    </tr>\n",
       "    <tr>\n",
       "      <th>3</th>\n",
       "      <td>19</td>\n",
       "      <td>Computer Science</td>\n",
       "      <td>Male</td>\n",
       "      <td>3.65</td>\n",
       "      <td>2</td>\n",
       "      <td>1</td>\n",
       "      <td>0</td>\n",
       "      <td>Average</td>\n",
       "      <td>Low</td>\n",
       "      <td>Average</td>\n",
       "      <td>Moderate</td>\n",
       "      <td>Single</td>\n",
       "      <td>NaN</td>\n",
       "      <td>Never</td>\n",
       "      <td>No</td>\n",
       "      <td>No</td>\n",
       "      <td>4</td>\n",
       "      <td>Moderate</td>\n",
       "      <td>20</td>\n",
       "      <td>Off-Campus</td>\n",
       "    </tr>\n",
       "    <tr>\n",
       "      <th>4</th>\n",
       "      <td>18</td>\n",
       "      <td>Business</td>\n",
       "      <td>Male</td>\n",
       "      <td>3.40</td>\n",
       "      <td>3</td>\n",
       "      <td>3</td>\n",
       "      <td>4</td>\n",
       "      <td>Good</td>\n",
       "      <td>Low</td>\n",
       "      <td>Average</td>\n",
       "      <td>High</td>\n",
       "      <td>Married</td>\n",
       "      <td>Never</td>\n",
       "      <td>Never</td>\n",
       "      <td>No</td>\n",
       "      <td>Yes</td>\n",
       "      <td>0</td>\n",
       "      <td>High</td>\n",
       "      <td>23</td>\n",
       "      <td>On-Campus</td>\n",
       "    </tr>\n",
       "  </tbody>\n",
       "</table>\n",
       "</div>"
      ],
      "text/plain": [
       "   Age            Course  Gender  CGPA  Stress_Level  Depression_Score  \\\n",
       "0   25            Others    Male  3.56             3                 3   \n",
       "1   24       Engineering  Female  2.44             0                 3   \n",
       "2   19          Business  Female  3.74             4                 0   \n",
       "3   19  Computer Science    Male  3.65             2                 1   \n",
       "4   18          Business    Male  3.40             3                 3   \n",
       "\n",
       "   Anxiety_Score Sleep_Quality Physical_Activity Diet_Quality Social_Support  \\\n",
       "0              2          Good          Moderate         Good       Moderate   \n",
       "1              0       Average               Low      Average            Low   \n",
       "2              3          Good               Low      Average       Moderate   \n",
       "3              0       Average               Low      Average       Moderate   \n",
       "4              4          Good               Low      Average           High   \n",
       "\n",
       "  Relationship_Status Substance_Use Counseling_Service_Use Family_History  \\\n",
       "0             Married         Never                  Never             No   \n",
       "1              Single  Occasionally           Occasionally             No   \n",
       "2   In a Relationship         Never           Occasionally             No   \n",
       "3              Single           NaN                  Never             No   \n",
       "4             Married         Never                  Never             No   \n",
       "\n",
       "  Chronic_Illness  Financial_Stress Extracurricular_Involvement  \\\n",
       "0              No                 2                    Moderate   \n",
       "1              No                 3                         Low   \n",
       "2              No                 4                        High   \n",
       "3              No                 4                    Moderate   \n",
       "4             Yes                 0                        High   \n",
       "\n",
       "   Semester_Credit_Load Residence_Type  \n",
       "0                    17      On-Campus  \n",
       "1                    27      On-Campus  \n",
       "2                    15      On-Campus  \n",
       "3                    20     Off-Campus  \n",
       "4                    23      On-Campus  "
      ]
     },
     "execution_count": 544,
     "metadata": {},
     "output_type": "execute_result"
    }
   ],
   "source": [
    "students_df = pd.read_csv('students_mental_health_survey.csv')\n",
    "students_df.head()"
   ]
  },
  {
   "cell_type": "markdown",
   "metadata": {
    "id": "hoUjq1tPzz7P"
   },
   "source": [
    "#### Dataset 2: covers employee mental health\n",
    "\n",
    "Type: CSV File.\n",
    "\n",
    "Method: manually downloaded from the Kaggle website.\n",
    "\n",
    "The source: https://www.kaggle.com/datasets/osmi/mental-health-in-tech-survey\n",
    "\n",
    "Dataset variables:\n",
    "\n",
    "*   *Timestamp*\n",
    "*   *Age*\n",
    "*   *Gender*\n",
    "*   *Country*\n",
    "*   *state: If you live in the United States, which state or territory do you live in?*\n",
    "*   *self_employed: Are you self-employed?*\n",
    "*   *family_history: Do you have a family history of mental illness?*\n",
    "*   *treatment: Have you sought treatment for a mental health condition?*\n",
    "*   *work_interfere: If you have a mental health condition, do you feel that it interferes with your work?*\n",
    "*   *no_employees: How many employees does your company or organization have?*\n",
    "*   *remote_work: Do you work remotely (outside of an office) at least 50% of the time?*\n",
    "*   *tech_company: Is your employer primarily a tech company/organization?*\n",
    "*   *benefits: Does your employer provide mental health benefits?*\n",
    "*   *care_options: Do you know the options for mental health care your employer provides?*\n",
    "*   *wellness_program: Has your employer ever discussed mental health as part of an employee wellness program?*\n",
    "*   *seek_help: Does your employer provide resources to learn more about mental health issues and how to seek help?*\n",
    "*   *anonymity: Is your anonymity protected if you choose to take advantage of mental health or substance abuse treatment resources?*\n",
    "*   *leave: How easy is it for you to take medical leave for a mental health condition?*\n",
    "*   *mental_health_consequence: Do you think that discussing a mental health issue with your employer would have negative consequences?*\n",
    "*   *phys_health_consequence: Do you think that discussing a physical health issue with your employer would have negative consequences?*\n",
    "*   *coworkers: Would you be willing to discuss a mental health issue with your coworkers?*\n",
    "*   *supervisor: Would you be willing to discuss a mental health issue with your direct supervisor(s)?*\n",
    "*   *mental_health_interview: Would you bring up a mental health issue with a potential employer in an interview?*\n",
    "*   *phys_health_interview: Would you bring up a physical health issue with a potential employer in an interview?*\n",
    "*   *mental_vs_physical: Do you feel that your employer takes mental health as seriously as physical health?*\n",
    "*   *obs_consequence: Have you heard of or observed negative consequences for coworkers with mental health conditions in your workplace?*\n",
    "*   *comments: Any additional notes or comments*"
   ]
  },
  {
   "cell_type": "code",
   "execution_count": 545,
   "metadata": {
    "id": "6zT0QxRyYmm7"
   },
   "outputs": [
    {
     "data": {
      "text/html": [
       "<div>\n",
       "<style scoped>\n",
       "    .dataframe tbody tr th:only-of-type {\n",
       "        vertical-align: middle;\n",
       "    }\n",
       "\n",
       "    .dataframe tbody tr th {\n",
       "        vertical-align: top;\n",
       "    }\n",
       "\n",
       "    .dataframe thead th {\n",
       "        text-align: right;\n",
       "    }\n",
       "</style>\n",
       "<table border=\"1\" class=\"dataframe\">\n",
       "  <thead>\n",
       "    <tr style=\"text-align: right;\">\n",
       "      <th></th>\n",
       "      <th>Timestamp</th>\n",
       "      <th>Age</th>\n",
       "      <th>Gender</th>\n",
       "      <th>Country</th>\n",
       "      <th>state</th>\n",
       "      <th>self_employed</th>\n",
       "      <th>family_history</th>\n",
       "      <th>treatment</th>\n",
       "      <th>work_interfere</th>\n",
       "      <th>no_employees</th>\n",
       "      <th>...</th>\n",
       "      <th>leave</th>\n",
       "      <th>mental_health_consequence</th>\n",
       "      <th>phys_health_consequence</th>\n",
       "      <th>coworkers</th>\n",
       "      <th>supervisor</th>\n",
       "      <th>mental_health_interview</th>\n",
       "      <th>phys_health_interview</th>\n",
       "      <th>mental_vs_physical</th>\n",
       "      <th>obs_consequence</th>\n",
       "      <th>comments</th>\n",
       "    </tr>\n",
       "  </thead>\n",
       "  <tbody>\n",
       "    <tr>\n",
       "      <th>0</th>\n",
       "      <td>2014-08-27 11:29:31</td>\n",
       "      <td>37</td>\n",
       "      <td>Female</td>\n",
       "      <td>United States</td>\n",
       "      <td>IL</td>\n",
       "      <td>NaN</td>\n",
       "      <td>No</td>\n",
       "      <td>Yes</td>\n",
       "      <td>Often</td>\n",
       "      <td>6-25</td>\n",
       "      <td>...</td>\n",
       "      <td>Somewhat easy</td>\n",
       "      <td>No</td>\n",
       "      <td>No</td>\n",
       "      <td>Some of them</td>\n",
       "      <td>Yes</td>\n",
       "      <td>No</td>\n",
       "      <td>Maybe</td>\n",
       "      <td>Yes</td>\n",
       "      <td>No</td>\n",
       "      <td>NaN</td>\n",
       "    </tr>\n",
       "    <tr>\n",
       "      <th>1</th>\n",
       "      <td>2014-08-27 11:29:37</td>\n",
       "      <td>44</td>\n",
       "      <td>M</td>\n",
       "      <td>United States</td>\n",
       "      <td>IN</td>\n",
       "      <td>NaN</td>\n",
       "      <td>No</td>\n",
       "      <td>No</td>\n",
       "      <td>Rarely</td>\n",
       "      <td>More than 1000</td>\n",
       "      <td>...</td>\n",
       "      <td>Don't know</td>\n",
       "      <td>Maybe</td>\n",
       "      <td>No</td>\n",
       "      <td>No</td>\n",
       "      <td>No</td>\n",
       "      <td>No</td>\n",
       "      <td>No</td>\n",
       "      <td>Don't know</td>\n",
       "      <td>No</td>\n",
       "      <td>NaN</td>\n",
       "    </tr>\n",
       "    <tr>\n",
       "      <th>2</th>\n",
       "      <td>2014-08-27 11:29:44</td>\n",
       "      <td>32</td>\n",
       "      <td>Male</td>\n",
       "      <td>Canada</td>\n",
       "      <td>NaN</td>\n",
       "      <td>NaN</td>\n",
       "      <td>No</td>\n",
       "      <td>No</td>\n",
       "      <td>Rarely</td>\n",
       "      <td>6-25</td>\n",
       "      <td>...</td>\n",
       "      <td>Somewhat difficult</td>\n",
       "      <td>No</td>\n",
       "      <td>No</td>\n",
       "      <td>Yes</td>\n",
       "      <td>Yes</td>\n",
       "      <td>Yes</td>\n",
       "      <td>Yes</td>\n",
       "      <td>No</td>\n",
       "      <td>No</td>\n",
       "      <td>NaN</td>\n",
       "    </tr>\n",
       "    <tr>\n",
       "      <th>3</th>\n",
       "      <td>2014-08-27 11:29:46</td>\n",
       "      <td>31</td>\n",
       "      <td>Male</td>\n",
       "      <td>United Kingdom</td>\n",
       "      <td>NaN</td>\n",
       "      <td>NaN</td>\n",
       "      <td>Yes</td>\n",
       "      <td>Yes</td>\n",
       "      <td>Often</td>\n",
       "      <td>26-100</td>\n",
       "      <td>...</td>\n",
       "      <td>Somewhat difficult</td>\n",
       "      <td>Yes</td>\n",
       "      <td>Yes</td>\n",
       "      <td>Some of them</td>\n",
       "      <td>No</td>\n",
       "      <td>Maybe</td>\n",
       "      <td>Maybe</td>\n",
       "      <td>No</td>\n",
       "      <td>Yes</td>\n",
       "      <td>NaN</td>\n",
       "    </tr>\n",
       "    <tr>\n",
       "      <th>4</th>\n",
       "      <td>2014-08-27 11:30:22</td>\n",
       "      <td>31</td>\n",
       "      <td>Male</td>\n",
       "      <td>United States</td>\n",
       "      <td>TX</td>\n",
       "      <td>NaN</td>\n",
       "      <td>No</td>\n",
       "      <td>No</td>\n",
       "      <td>Never</td>\n",
       "      <td>100-500</td>\n",
       "      <td>...</td>\n",
       "      <td>Don't know</td>\n",
       "      <td>No</td>\n",
       "      <td>No</td>\n",
       "      <td>Some of them</td>\n",
       "      <td>Yes</td>\n",
       "      <td>Yes</td>\n",
       "      <td>Yes</td>\n",
       "      <td>Don't know</td>\n",
       "      <td>No</td>\n",
       "      <td>NaN</td>\n",
       "    </tr>\n",
       "  </tbody>\n",
       "</table>\n",
       "<p>5 rows × 27 columns</p>\n",
       "</div>"
      ],
      "text/plain": [
       "             Timestamp  Age  Gender         Country state self_employed  \\\n",
       "0  2014-08-27 11:29:31   37  Female   United States    IL           NaN   \n",
       "1  2014-08-27 11:29:37   44       M   United States    IN           NaN   \n",
       "2  2014-08-27 11:29:44   32    Male          Canada   NaN           NaN   \n",
       "3  2014-08-27 11:29:46   31    Male  United Kingdom   NaN           NaN   \n",
       "4  2014-08-27 11:30:22   31    Male   United States    TX           NaN   \n",
       "\n",
       "  family_history treatment work_interfere    no_employees  ...  \\\n",
       "0             No       Yes          Often            6-25  ...   \n",
       "1             No        No         Rarely  More than 1000  ...   \n",
       "2             No        No         Rarely            6-25  ...   \n",
       "3            Yes       Yes          Often          26-100  ...   \n",
       "4             No        No          Never         100-500  ...   \n",
       "\n",
       "                leave mental_health_consequence phys_health_consequence  \\\n",
       "0       Somewhat easy                        No                      No   \n",
       "1          Don't know                     Maybe                      No   \n",
       "2  Somewhat difficult                        No                      No   \n",
       "3  Somewhat difficult                       Yes                     Yes   \n",
       "4          Don't know                        No                      No   \n",
       "\n",
       "      coworkers supervisor mental_health_interview phys_health_interview  \\\n",
       "0  Some of them        Yes                      No                 Maybe   \n",
       "1            No         No                      No                    No   \n",
       "2           Yes        Yes                     Yes                   Yes   \n",
       "3  Some of them         No                   Maybe                 Maybe   \n",
       "4  Some of them        Yes                     Yes                   Yes   \n",
       "\n",
       "  mental_vs_physical obs_consequence comments  \n",
       "0                Yes              No      NaN  \n",
       "1         Don't know              No      NaN  \n",
       "2                 No              No      NaN  \n",
       "3                 No             Yes      NaN  \n",
       "4         Don't know              No      NaN  \n",
       "\n",
       "[5 rows x 27 columns]"
      ]
     },
     "execution_count": 545,
     "metadata": {},
     "output_type": "execute_result"
    }
   ],
   "source": [
    "employees_df = pd.read_csv('employees_mental_health_survey.csv')\n",
    "employees_df.head()"
   ]
  },
  {
   "cell_type": "markdown",
   "metadata": {},
   "source": [
    "Optional data storing step: You may save your raw dataset files to the local data store before moving to the next step."
   ]
  },
  {
   "cell_type": "code",
   "execution_count": 546,
   "metadata": {},
   "outputs": [],
   "source": [
    "#store the raw data in local data store\n",
    "# Save students_df as CSV\n",
    "students_df.to_csv('students_data_raw.csv', index=False)\n",
    "\n",
    "# Save employees as CSV\n",
    "employees_df.to_csv('employees_data_raw.csv', index=False)"
   ]
  },
  {
   "cell_type": "code",
   "execution_count": 547,
   "metadata": {},
   "outputs": [],
   "source": [
    "# Make copies of the datasets\n",
    "students_df_raw = students_df.copy()\n",
    "employees_df_raw = employees_df.copy()"
   ]
  },
  {
   "cell_type": "code",
   "execution_count": 548,
   "metadata": {},
   "outputs": [
    {
     "name": "stdout",
     "output_type": "stream",
     "text": [
      "<class 'pandas.core.frame.DataFrame'>\n",
      "RangeIndex: 7022 entries, 0 to 7021\n",
      "Data columns (total 16 columns):\n",
      " #   Column                  Non-Null Count  Dtype \n",
      "---  ------                  --------------  ----- \n",
      " 0   Age                     7022 non-null   int64 \n",
      " 1   Course                  7022 non-null   object\n",
      " 2   Gender                  7022 non-null   object\n",
      " 3   Stress_Level            7022 non-null   int64 \n",
      " 4   Depression_Score        7022 non-null   int64 \n",
      " 5   Anxiety_Score           7022 non-null   int64 \n",
      " 6   Sleep_Quality           7022 non-null   object\n",
      " 7   Physical_Activity       7022 non-null   object\n",
      " 8   Diet_Quality            7022 non-null   object\n",
      " 9   Social_Support          7022 non-null   object\n",
      " 10  Substance_Use           7007 non-null   object\n",
      " 11  Counseling_Service_Use  7022 non-null   object\n",
      " 12  Family_History          7022 non-null   object\n",
      " 13  Chronic_Illness         7022 non-null   object\n",
      " 14  Financial_Stress        7022 non-null   int64 \n",
      " 15  Residence_Type          7022 non-null   object\n",
      "dtypes: int64(5), object(11)\n",
      "memory usage: 877.9+ KB\n"
     ]
    }
   ],
   "source": [
    "#### First we are going to drop the columns that we won't need in our analysis to be able to foucs in what important\n",
    "students_df.drop(['CGPA', 'Relationship_Status', 'Extracurricular_Involvement', \n",
    "                  'Semester_Credit_Load'], axis=1, inplace=True)\n",
    "\n",
    "students_df.info()"
   ]
  },
  {
   "cell_type": "code",
   "execution_count": 549,
   "metadata": {},
   "outputs": [
    {
     "name": "stdout",
     "output_type": "stream",
     "text": [
      "<class 'pandas.core.frame.DataFrame'>\n",
      "RangeIndex: 1259 entries, 0 to 1258\n",
      "Data columns (total 7 columns):\n",
      " #   Column          Non-Null Count  Dtype \n",
      "---  ------          --------------  ----- \n",
      " 0   Age             1259 non-null   int64 \n",
      " 1   Gender          1259 non-null   object\n",
      " 2   family_history  1259 non-null   object\n",
      " 3   treatment       1259 non-null   object\n",
      " 4   remote_work     1259 non-null   object\n",
      " 5   coworkers       1259 non-null   object\n",
      " 6   supervisor      1259 non-null   object\n",
      "dtypes: int64(1), object(6)\n",
      "memory usage: 69.0+ KB\n"
     ]
    }
   ],
   "source": [
    "employees_df.drop(['Timestamp', 'Country', 'state', 'self_employed', 'work_interfere', 'no_employees', \n",
    "                   'tech_company', 'benefits', 'care_options', 'wellness_program', 'anonymity', 'leave', \n",
    "                   'mental_health_consequence', 'phys_health_consequence', 'mental_health_interview',\n",
    "                  'phys_health_interview', 'seek_help', 'mental_vs_physical', 'obs_consequence', 'comments'], axis=1, inplace=True)\n",
    "\n",
    "employees_df.info()"
   ]
  },
  {
   "cell_type": "code",
   "execution_count": 550,
   "metadata": {},
   "outputs": [],
   "source": [
    "# Make copies of the datasets now that we have it more focus for our analysis\n",
    "students_df_raw_focus = students_df.copy()\n",
    "employees_df_raw_focus = employees_df.copy()"
   ]
  },
  {
   "cell_type": "code",
   "execution_count": 551,
   "metadata": {},
   "outputs": [],
   "source": [
    "# Save students_df_raw_focus as CSV\n",
    "students_df_raw_focus.to_csv('students_data_raw_focus.csv', index=False)\n",
    "\n",
    "# Save employees_df_raw_focus as CSV\n",
    "employees_df_raw_focus.to_csv('employees_data_raw_focus.csv', index=False)"
   ]
  },
  {
   "cell_type": "markdown",
   "metadata": {
    "id": "QwSWIVmotLgV"
   },
   "source": [
    "## 2. Assess data\n"
   ]
  },
  {
   "cell_type": "markdown",
   "metadata": {},
   "source": [
    "### Student Dataset:\n",
    "\n",
    "In this analysis, we are focusing on students studing for bachelor's degree who are at most will be 25 years old. so in our student dataset, we are specifically looking for students who meet these requirements.\n"
   ]
  },
  {
   "cell_type": "code",
   "execution_count": 552,
   "metadata": {},
   "outputs": [
    {
     "name": "stdout",
     "output_type": "stream",
     "text": [
      "<class 'pandas.core.frame.DataFrame'>\n",
      "RangeIndex: 7022 entries, 0 to 7021\n",
      "Data columns (total 16 columns):\n",
      " #   Column                  Non-Null Count  Dtype \n",
      "---  ------                  --------------  ----- \n",
      " 0   Age                     7022 non-null   int64 \n",
      " 1   Course                  7022 non-null   object\n",
      " 2   Gender                  7022 non-null   object\n",
      " 3   Stress_Level            7022 non-null   int64 \n",
      " 4   Depression_Score        7022 non-null   int64 \n",
      " 5   Anxiety_Score           7022 non-null   int64 \n",
      " 6   Sleep_Quality           7022 non-null   object\n",
      " 7   Physical_Activity       7022 non-null   object\n",
      " 8   Diet_Quality            7022 non-null   object\n",
      " 9   Social_Support          7022 non-null   object\n",
      " 10  Substance_Use           7007 non-null   object\n",
      " 11  Counseling_Service_Use  7022 non-null   object\n",
      " 12  Family_History          7022 non-null   object\n",
      " 13  Chronic_Illness         7022 non-null   object\n",
      " 14  Financial_Stress        7022 non-null   int64 \n",
      " 15  Residence_Type          7022 non-null   object\n",
      "dtypes: int64(5), object(11)\n",
      "memory usage: 877.9+ KB\n"
     ]
    }
   ],
   "source": [
    "# having overall look\n",
    "students_df.info()"
   ]
  },
  {
   "cell_type": "markdown",
   "metadata": {},
   "source": [
    "so we are sure we don't have any missing value in this dataset or null value and data types are correct :) but let's ;et's have deep look our data and try to finf hidden qulity issue that dosn't fit to our personal analysis and it' requirment. "
   ]
  },
  {
   "cell_type": "markdown",
   "metadata": {
    "id": "adaK2iPNzVu4"
   },
   "source": [
    "### Issue : having some student that don't meet our requirements"
   ]
  },
  {
   "cell_type": "markdown",
   "metadata": {},
   "source": [
    "#### Having medical student"
   ]
  },
  {
   "cell_type": "code",
   "execution_count": 553,
   "metadata": {
    "id": "SpW59kh-zl8d"
   },
   "outputs": [
    {
     "data": {
      "text/plain": [
       "<AxesSubplot:>"
      ]
     },
     "execution_count": 553,
     "metadata": {},
     "output_type": "execute_result"
    },
    {
     "data": {
      "image/png": "[encoded data removed]",
      "text/plain": [
       "<Figure size 432x288 with 1 Axes>"
      ]
     },
     "metadata": {
      "needs_background": "light"
     },
     "output_type": "display_data"
    }
   ],
   "source": [
    "#Inspecting the dataframe visually\n",
    "course_counts = students_df['Course'].value_counts()\n",
    "course_counts.plot(kind='bar')"
   ]
  },
  {
   "cell_type": "code",
   "execution_count": 554,
   "metadata": {},
   "outputs": [
    {
     "data": {
      "text/plain": [
       "array(['Others', 'Engineering', 'Business', 'Computer Science', 'Medical',\n",
       "       'Law'], dtype=object)"
      ]
     },
     "execution_count": 554,
     "metadata": {},
     "output_type": "execute_result"
    }
   ],
   "source": [
    "#Inspecting the dataframe programmatically\n",
    "students_df['Course'].unique()"
   ]
  },
  {
   "cell_type": "markdown",
   "metadata": {},
   "source": [
    "Issue and justification: we discovered that we have medical students in our dataset. Since medical students do not study for a bachelor's degree, it wouldn't make sense to compare them with our dataset of employees in the tech field. Therefore, we decided to drop them from our dataset."
   ]
  },
  {
   "cell_type": "markdown",
   "metadata": {
    "id": "8Be77N4I1AmE"
   },
   "source": [
    "#### Having students with a residence type of \"With Family\" "
   ]
  },
  {
   "cell_type": "code",
   "execution_count": 555,
   "metadata": {
    "id": "iMhHyiyLM2I3"
   },
   "outputs": [
    {
     "data": {
      "text/plain": [
       "<AxesSubplot:>"
      ]
     },
     "execution_count": 555,
     "metadata": {},
     "output_type": "execute_result"
    },
    {
     "data": {
      "image/png": "[encoded data removed]",
      "text/plain": [
       "<Figure size 432x288 with 1 Axes>"
      ]
     },
     "metadata": {
      "needs_background": "light"
     },
     "output_type": "display_data"
    }
   ],
   "source": [
    "#Inspecting the dataframe visually\n",
    "residence_Type_counts = students_df['Residence_Type'].value_counts()\n",
    "residence_Type_counts.plot(kind='bar')"
   ]
  },
  {
   "cell_type": "code",
   "execution_count": 556,
   "metadata": {
    "id": "bnviRCUI-bb7"
   },
   "outputs": [
    {
     "data": {
      "text/plain": [
       "array(['On-Campus', 'Off-Campus', 'With Family'], dtype=object)"
      ]
     },
     "execution_count": 556,
     "metadata": {},
     "output_type": "execute_result"
    }
   ],
   "source": [
    "#Inspecting the dataframe programmatically\n",
    "students_df['Residence_Type'].unique()"
   ]
  },
  {
   "cell_type": "markdown",
   "metadata": {},
   "source": [
    "Issue and justification: we found students with a residence type of \"With Family\" in our dataset. This term is ambiguous for us because we are trying to determine if socializing has an effect on students and employees. To maintain clarity and consistency in our analysis, we decided to drop these students as well."
   ]
  },
  {
   "cell_type": "markdown",
   "metadata": {},
   "source": [
    "#### having students with age > 25"
   ]
  },
  {
   "cell_type": "code",
   "execution_count": 557,
   "metadata": {},
   "outputs": [
    {
     "data": {
      "text/plain": [
       "<AxesSubplot:>"
      ]
     },
     "execution_count": 557,
     "metadata": {},
     "output_type": "execute_result"
    },
    {
     "data": {
      "image/png": "[encoded data removed]",
      "text/plain": [
       "<Figure size 432x288 with 1 Axes>"
      ]
     },
     "metadata": {
      "needs_background": "light"
     },
     "output_type": "display_data"
    }
   ],
   "source": [
    "#Inspecting the dataframe visually\n",
    "age_counts = students_df['Age'].value_counts()\n",
    "age_counts.plot(kind='bar')"
   ]
  },
  {
   "cell_type": "code",
   "execution_count": 558,
   "metadata": {},
   "outputs": [
    {
     "data": {
      "text/plain": [
       "array([25, 24, 19, 18, 21, 23, 28, 22, 27, 20, 31, 26, 35, 30, 32, 29, 34,\n",
       "       33])"
      ]
     },
     "execution_count": 558,
     "metadata": {},
     "output_type": "execute_result"
    }
   ],
   "source": [
    "#Inspecting the dataframe programmatically\n",
    "students_df['Age'].unique()"
   ]
  },
  {
   "cell_type": "markdown",
   "metadata": {},
   "source": [
    "Issue and justification: we identified students with an age greater than 25, which does not match our requirements. Therefore, we decided to drop them from our analysis."
   ]
  },
  {
   "cell_type": "markdown",
   "metadata": {},
   "source": [
    "### Employees Dataset"
   ]
  },
  {
   "cell_type": "code",
   "execution_count": 559,
   "metadata": {},
   "outputs": [
    {
     "name": "stdout",
     "output_type": "stream",
     "text": [
      "<class 'pandas.core.frame.DataFrame'>\n",
      "RangeIndex: 1259 entries, 0 to 1258\n",
      "Data columns (total 7 columns):\n",
      " #   Column          Non-Null Count  Dtype \n",
      "---  ------          --------------  ----- \n",
      " 0   Age             1259 non-null   int64 \n",
      " 1   Gender          1259 non-null   object\n",
      " 2   family_history  1259 non-null   object\n",
      " 3   treatment       1259 non-null   object\n",
      " 4   remote_work     1259 non-null   object\n",
      " 5   coworkers       1259 non-null   object\n",
      " 6   supervisor      1259 non-null   object\n",
      "dtypes: int64(1), object(6)\n",
      "memory usage: 69.0+ KB\n"
     ]
    }
   ],
   "source": [
    "# having overall look\n",
    "employees_df.info()"
   ]
  },
  {
   "cell_type": "markdown",
   "metadata": {},
   "source": [
    "so we are sure we don't have any missing value in this dataset or null value and data types are correct :) but let's ;et's have deep look our data and try to finf hidden qulity issue."
   ]
  },
  {
   "cell_type": "markdown",
   "metadata": {},
   "source": [
    "### Quality Issue 1: Accuracy issue with with gender column"
   ]
  },
  {
   "cell_type": "code",
   "execution_count": 560,
   "metadata": {},
   "outputs": [
    {
     "data": {
      "text/plain": [
       "<AxesSubplot:>"
      ]
     },
     "execution_count": 560,
     "metadata": {},
     "output_type": "execute_result"
    },
    {
     "data": {
      "image/png": "[encoded data removed]",
      "text/plain": [
       "<Figure size 432x288 with 1 Axes>"
      ]
     },
     "metadata": {
      "needs_background": "light"
     },
     "output_type": "display_data"
    }
   ],
   "source": [
    "#Inspecting the dataframe visually\n",
    "gender_counts = employees_df['Gender'].value_counts()\n",
    "gender_counts.plot(kind='bar')"
   ]
  },
  {
   "cell_type": "code",
   "execution_count": 561,
   "metadata": {},
   "outputs": [
    {
     "data": {
      "text/plain": [
       "array(['Female', 'M', 'Male', 'male', 'female', 'm', 'Male-ish', 'maile',\n",
       "       'Trans-female', 'Cis Female', 'F', 'something kinda male?',\n",
       "       'Cis Male', 'Woman', 'f', 'Mal', 'Male (CIS)', 'queer/she/they',\n",
       "       'non-binary', 'Femake', 'woman', 'Make', 'Nah', 'All', 'Enby',\n",
       "       'fluid', 'Genderqueer', 'Female ', 'Androgyne', 'Agender',\n",
       "       'cis-female/femme', 'Guy (-ish) ^_^', 'male leaning androgynous',\n",
       "       'Male ', 'Man', 'Trans woman', 'msle', 'Neuter', 'Female (trans)',\n",
       "       'queer', 'Female (cis)', 'Mail', 'cis male', 'A little about you',\n",
       "       'Malr', 'p', 'femail', 'Cis Man',\n",
       "       'ostensibly male, unsure what that really means'], dtype=object)"
      ]
     },
     "execution_count": 561,
     "metadata": {},
     "output_type": "execute_result"
    }
   ],
   "source": [
    "employees_df['Gender'].unique()"
   ]
  },
  {
   "cell_type": "markdown",
   "metadata": {},
   "source": [
    "Issue and justification: 'A little about you' , 'Nah', 'p', 'All' are all inaccuracy values for Gender."
   ]
  },
  {
   "cell_type": "markdown",
   "metadata": {},
   "source": [
    "### Quality Issue 2: inconsistency with gender column"
   ]
  },
  {
   "cell_type": "code",
   "execution_count": 562,
   "metadata": {},
   "outputs": [
    {
     "data": {
      "text/plain": [
       "<AxesSubplot:>"
      ]
     },
     "execution_count": 562,
     "metadata": {},
     "output_type": "execute_result"
    },
    {
     "data": {
      "image/png": "[encoded data removed]",
      "text/plain": [
       "<Figure size 432x288 with 1 Axes>"
      ]
     },
     "metadata": {
      "needs_background": "light"
     },
     "output_type": "display_data"
    }
   ],
   "source": [
    "#Inspecting the dataframe visually\n",
    "gender_counts = employees_df['Gender'].value_counts()\n",
    "gender_counts.plot(kind='bar')"
   ]
  },
  {
   "cell_type": "code",
   "execution_count": 563,
   "metadata": {},
   "outputs": [
    {
     "data": {
      "text/plain": [
       "array(['Female', 'M', 'Male', 'male', 'female', 'm', 'Male-ish', 'maile',\n",
       "       'Trans-female', 'Cis Female', 'F', 'something kinda male?',\n",
       "       'Cis Male', 'Woman', 'f', 'Mal', 'Male (CIS)', 'queer/she/they',\n",
       "       'non-binary', 'Femake', 'woman', 'Make', 'Nah', 'All', 'Enby',\n",
       "       'fluid', 'Genderqueer', 'Female ', 'Androgyne', 'Agender',\n",
       "       'cis-female/femme', 'Guy (-ish) ^_^', 'male leaning androgynous',\n",
       "       'Male ', 'Man', 'Trans woman', 'msle', 'Neuter', 'Female (trans)',\n",
       "       'queer', 'Female (cis)', 'Mail', 'cis male', 'A little about you',\n",
       "       'Malr', 'p', 'femail', 'Cis Man',\n",
       "       'ostensibly male, unsure what that really means'], dtype=object)"
      ]
     },
     "execution_count": 563,
     "metadata": {},
     "output_type": "execute_result"
    }
   ],
   "source": [
    "employees_df['Gender'].unique()"
   ]
  },
  {
   "cell_type": "code",
   "execution_count": 564,
   "metadata": {},
   "outputs": [
    {
     "data": {
      "text/plain": [
       "Male                                              615\n",
       "male                                              206\n",
       "Female                                            121\n",
       "M                                                 116\n",
       "female                                             62\n",
       "F                                                  38\n",
       "m                                                  34\n",
       "f                                                  15\n",
       "Make                                                4\n",
       "Woman                                               3\n",
       "Male                                                3\n",
       "Man                                                 2\n",
       "Cis Male                                            2\n",
       "Female                                              2\n",
       "Female (trans)                                      2\n",
       "fluid                                               1\n",
       "Male (CIS)                                          1\n",
       "Nah                                                 1\n",
       "A little about you                                  1\n",
       "p                                                   1\n",
       "Trans-female                                        1\n",
       "Mail                                                1\n",
       "cis male                                            1\n",
       "woman                                               1\n",
       "Agender                                             1\n",
       "Neuter                                              1\n",
       "Androgyne                                           1\n",
       "Male-ish                                            1\n",
       "Cis Man                                             1\n",
       "Mal                                                 1\n",
       "Guy (-ish) ^_^                                      1\n",
       "non-binary                                          1\n",
       "cis-female/femme                                    1\n",
       "Femake                                              1\n",
       "Trans woman                                         1\n",
       "Enby                                                1\n",
       "Cis Female                                          1\n",
       "Genderqueer                                         1\n",
       "msle                                                1\n",
       "Malr                                                1\n",
       "queer/she/they                                      1\n",
       "All                                                 1\n",
       "femail                                              1\n",
       "male leaning androgynous                            1\n",
       "something kinda male?                               1\n",
       "queer                                               1\n",
       "Female (cis)                                        1\n",
       "maile                                               1\n",
       "ostensibly male, unsure what that really means      1\n",
       "Name: Gender, dtype: int64"
      ]
     },
     "execution_count": 564,
     "metadata": {},
     "output_type": "execute_result"
    }
   ],
   "source": [
    "gender_counts"
   ]
  },
  {
   "cell_type": "code",
   "execution_count": 565,
   "metadata": {},
   "outputs": [
    {
     "data": {
      "text/plain": [
       "array(['Male', 'Female'], dtype=object)"
      ]
     },
     "execution_count": 565,
     "metadata": {},
     "output_type": "execute_result"
    }
   ],
   "source": [
    "#let's have look at students dataset too\n",
    "students_df['Gender'].unique()"
   ]
  },
  {
   "cell_type": "markdown",
   "metadata": {},
   "source": [
    "Issue and justification: since our student dataset only includes 'male' and 'female' categories, we will keep it this way to ensure fair comparisons. Our plan is to convert variations such as 'm,' 'M,' 'male,' 'Male,' 'man,' etc. to 'Male' This approach will help standardize the representation of gender in our dataset and maintain consistency. By doing so, we can conduct a fair analysis and make meaningful comparisons between the male and female categories."
   ]
  },
  {
   "cell_type": "markdown",
   "metadata": {},
   "source": [
    "### Sudents dataset"
   ]
  },
  {
   "cell_type": "markdown",
   "metadata": {
    "id": "lXhGiYyiwwKN"
   },
   "source": [
    "### Issue : The structure of the \"Counseling_Service_Use\" column in students dataset"
   ]
  },
  {
   "cell_type": "code",
   "execution_count": 566,
   "metadata": {
    "id": "fleC5rORI0Xl"
   },
   "outputs": [
    {
     "data": {
      "text/plain": [
       "<AxesSubplot:>"
      ]
     },
     "execution_count": 566,
     "metadata": {},
     "output_type": "execute_result"
    },
    {
     "data": {
      "image/png": "[encoded data removed]",
      "text/plain": [
       "<Figure size 432x288 with 1 Axes>"
      ]
     },
     "metadata": {
      "needs_background": "light"
     },
     "output_type": "display_data"
    }
   ],
   "source": [
    "#FILL IN - Inspecting the dataframe visually\n",
    "service_Use_counts = students_df['Counseling_Service_Use'].value_counts()\n",
    "service_Use_counts.plot(kind='bar')"
   ]
  },
  {
   "cell_type": "code",
   "execution_count": 567,
   "metadata": {
    "id": "BTuQw7Rbsio4"
   },
   "outputs": [
    {
     "data": {
      "text/plain": [
       "array(['Never', 'Occasionally', 'Frequently'], dtype=object)"
      ]
     },
     "execution_count": 567,
     "metadata": {},
     "output_type": "execute_result"
    }
   ],
   "source": [
    "#FILL IN - Inspecting the dataframe programmatically\n",
    "students_df['Counseling_Service_Use'].unique()"
   ]
  },
  {
   "cell_type": "markdown",
   "metadata": {},
   "source": [
    "Issue and justification: We want to know if counseling service used or not so it will be more tidy to have binary values like 'Yes' and 'No' instead of the current categorical values. This would make the dataset more consistent and easier to analyze."
   ]
  },
  {
   "cell_type": "markdown",
   "metadata": {},
   "source": [
    "### Tidiness Issue 1: Multiple Observational Units in a Single Table"
   ]
  },
  {
   "cell_type": "code",
   "execution_count": 568,
   "metadata": {},
   "outputs": [
    {
     "data": {
      "text/html": [
       "<div>\n",
       "<style scoped>\n",
       "    .dataframe tbody tr th:only-of-type {\n",
       "        vertical-align: middle;\n",
       "    }\n",
       "\n",
       "    .dataframe tbody tr th {\n",
       "        vertical-align: top;\n",
       "    }\n",
       "\n",
       "    .dataframe thead th {\n",
       "        text-align: right;\n",
       "    }\n",
       "</style>\n",
       "<table border=\"1\" class=\"dataframe\">\n",
       "  <thead>\n",
       "    <tr style=\"text-align: right;\">\n",
       "      <th></th>\n",
       "      <th>Age</th>\n",
       "      <th>Course</th>\n",
       "      <th>Gender</th>\n",
       "      <th>Stress_Level</th>\n",
       "      <th>Depression_Score</th>\n",
       "      <th>Anxiety_Score</th>\n",
       "      <th>Sleep_Quality</th>\n",
       "      <th>Physical_Activity</th>\n",
       "      <th>Diet_Quality</th>\n",
       "      <th>Social_Support</th>\n",
       "      <th>Substance_Use</th>\n",
       "      <th>Counseling_Service_Use</th>\n",
       "      <th>Family_History</th>\n",
       "      <th>Chronic_Illness</th>\n",
       "      <th>Financial_Stress</th>\n",
       "      <th>Residence_Type</th>\n",
       "    </tr>\n",
       "  </thead>\n",
       "  <tbody>\n",
       "    <tr>\n",
       "      <th>0</th>\n",
       "      <td>25</td>\n",
       "      <td>Others</td>\n",
       "      <td>Male</td>\n",
       "      <td>3</td>\n",
       "      <td>3</td>\n",
       "      <td>2</td>\n",
       "      <td>Good</td>\n",
       "      <td>Moderate</td>\n",
       "      <td>Good</td>\n",
       "      <td>Moderate</td>\n",
       "      <td>Never</td>\n",
       "      <td>Never</td>\n",
       "      <td>No</td>\n",
       "      <td>No</td>\n",
       "      <td>2</td>\n",
       "      <td>On-Campus</td>\n",
       "    </tr>\n",
       "    <tr>\n",
       "      <th>1</th>\n",
       "      <td>24</td>\n",
       "      <td>Engineering</td>\n",
       "      <td>Female</td>\n",
       "      <td>0</td>\n",
       "      <td>3</td>\n",
       "      <td>0</td>\n",
       "      <td>Average</td>\n",
       "      <td>Low</td>\n",
       "      <td>Average</td>\n",
       "      <td>Low</td>\n",
       "      <td>Occasionally</td>\n",
       "      <td>Occasionally</td>\n",
       "      <td>No</td>\n",
       "      <td>No</td>\n",
       "      <td>3</td>\n",
       "      <td>On-Campus</td>\n",
       "    </tr>\n",
       "    <tr>\n",
       "      <th>2</th>\n",
       "      <td>19</td>\n",
       "      <td>Business</td>\n",
       "      <td>Female</td>\n",
       "      <td>4</td>\n",
       "      <td>0</td>\n",
       "      <td>3</td>\n",
       "      <td>Good</td>\n",
       "      <td>Low</td>\n",
       "      <td>Average</td>\n",
       "      <td>Moderate</td>\n",
       "      <td>Never</td>\n",
       "      <td>Occasionally</td>\n",
       "      <td>No</td>\n",
       "      <td>No</td>\n",
       "      <td>4</td>\n",
       "      <td>On-Campus</td>\n",
       "    </tr>\n",
       "    <tr>\n",
       "      <th>3</th>\n",
       "      <td>19</td>\n",
       "      <td>Computer Science</td>\n",
       "      <td>Male</td>\n",
       "      <td>2</td>\n",
       "      <td>1</td>\n",
       "      <td>0</td>\n",
       "      <td>Average</td>\n",
       "      <td>Low</td>\n",
       "      <td>Average</td>\n",
       "      <td>Moderate</td>\n",
       "      <td>NaN</td>\n",
       "      <td>Never</td>\n",
       "      <td>No</td>\n",
       "      <td>No</td>\n",
       "      <td>4</td>\n",
       "      <td>Off-Campus</td>\n",
       "    </tr>\n",
       "    <tr>\n",
       "      <th>4</th>\n",
       "      <td>18</td>\n",
       "      <td>Business</td>\n",
       "      <td>Male</td>\n",
       "      <td>3</td>\n",
       "      <td>3</td>\n",
       "      <td>4</td>\n",
       "      <td>Good</td>\n",
       "      <td>Low</td>\n",
       "      <td>Average</td>\n",
       "      <td>High</td>\n",
       "      <td>Never</td>\n",
       "      <td>Never</td>\n",
       "      <td>No</td>\n",
       "      <td>Yes</td>\n",
       "      <td>0</td>\n",
       "      <td>On-Campus</td>\n",
       "    </tr>\n",
       "  </tbody>\n",
       "</table>\n",
       "</div>"
      ],
      "text/plain": [
       "   Age            Course  Gender  Stress_Level  Depression_Score  \\\n",
       "0   25            Others    Male             3                 3   \n",
       "1   24       Engineering  Female             0                 3   \n",
       "2   19          Business  Female             4                 0   \n",
       "3   19  Computer Science    Male             2                 1   \n",
       "4   18          Business    Male             3                 3   \n",
       "\n",
       "   Anxiety_Score Sleep_Quality Physical_Activity Diet_Quality Social_Support  \\\n",
       "0              2          Good          Moderate         Good       Moderate   \n",
       "1              0       Average               Low      Average            Low   \n",
       "2              3          Good               Low      Average       Moderate   \n",
       "3              0       Average               Low      Average       Moderate   \n",
       "4              4          Good               Low      Average           High   \n",
       "\n",
       "  Substance_Use Counseling_Service_Use Family_History Chronic_Illness  \\\n",
       "0         Never                  Never             No              No   \n",
       "1  Occasionally           Occasionally             No              No   \n",
       "2         Never           Occasionally             No              No   \n",
       "3           NaN                  Never             No              No   \n",
       "4         Never                  Never             No             Yes   \n",
       "\n",
       "   Financial_Stress Residence_Type  \n",
       "0                 2      On-Campus  \n",
       "1                 3      On-Campus  \n",
       "2                 4      On-Campus  \n",
       "3                 4     Off-Campus  \n",
       "4                 0      On-Campus  "
      ]
     },
     "execution_count": 568,
     "metadata": {},
     "output_type": "execute_result"
    }
   ],
   "source": [
    "students_df.head()"
   ]
  },
  {
   "cell_type": "code",
   "execution_count": 569,
   "metadata": {},
   "outputs": [
    {
     "name": "stdout",
     "output_type": "stream",
     "text": [
      "<class 'pandas.core.frame.DataFrame'>\n",
      "RangeIndex: 7022 entries, 0 to 7021\n",
      "Data columns (total 16 columns):\n",
      " #   Column                  Non-Null Count  Dtype \n",
      "---  ------                  --------------  ----- \n",
      " 0   Age                     7022 non-null   int64 \n",
      " 1   Course                  7022 non-null   object\n",
      " 2   Gender                  7022 non-null   object\n",
      " 3   Stress_Level            7022 non-null   int64 \n",
      " 4   Depression_Score        7022 non-null   int64 \n",
      " 5   Anxiety_Score           7022 non-null   int64 \n",
      " 6   Sleep_Quality           7022 non-null   object\n",
      " 7   Physical_Activity       7022 non-null   object\n",
      " 8   Diet_Quality            7022 non-null   object\n",
      " 9   Social_Support          7022 non-null   object\n",
      " 10  Substance_Use           7007 non-null   object\n",
      " 11  Counseling_Service_Use  7022 non-null   object\n",
      " 12  Family_History          7022 non-null   object\n",
      " 13  Chronic_Illness         7022 non-null   object\n",
      " 14  Financial_Stress        7022 non-null   int64 \n",
      " 15  Residence_Type          7022 non-null   object\n",
      "dtypes: int64(5), object(11)\n",
      "memory usage: 877.9+ KB\n"
     ]
    }
   ],
   "source": [
    "students_df.info()"
   ]
  },
  {
   "cell_type": "markdown",
   "metadata": {},
   "source": [
    " Issue and justification: the original students_df dataframe contains multiple observational units, where each row represents a combination of information about a student's personal attributes, mental health scores, and lifestyle factors."
   ]
  },
  {
   "cell_type": "markdown",
   "metadata": {
    "id": "4ffMoRGSwzYj"
   },
   "source": [
    "### Tidiness Issue 2:  Discrepancy in Mental Health Support Columns between Employees and Students Datasets"
   ]
  },
  {
   "cell_type": "code",
   "execution_count": 570,
   "metadata": {
    "id": "XUpeoqokw5Qt"
   },
   "outputs": [
    {
     "data": {
      "text/html": [
       "<div>\n",
       "<style scoped>\n",
       "    .dataframe tbody tr th:only-of-type {\n",
       "        vertical-align: middle;\n",
       "    }\n",
       "\n",
       "    .dataframe tbody tr th {\n",
       "        vertical-align: top;\n",
       "    }\n",
       "\n",
       "    .dataframe thead th {\n",
       "        text-align: right;\n",
       "    }\n",
       "</style>\n",
       "<table border=\"1\" class=\"dataframe\">\n",
       "  <thead>\n",
       "    <tr style=\"text-align: right;\">\n",
       "      <th></th>\n",
       "      <th>Age</th>\n",
       "      <th>Gender</th>\n",
       "      <th>family_history</th>\n",
       "      <th>treatment</th>\n",
       "      <th>remote_work</th>\n",
       "      <th>coworkers</th>\n",
       "      <th>supervisor</th>\n",
       "    </tr>\n",
       "  </thead>\n",
       "  <tbody>\n",
       "    <tr>\n",
       "      <th>0</th>\n",
       "      <td>37</td>\n",
       "      <td>Female</td>\n",
       "      <td>No</td>\n",
       "      <td>Yes</td>\n",
       "      <td>No</td>\n",
       "      <td>Some of them</td>\n",
       "      <td>Yes</td>\n",
       "    </tr>\n",
       "    <tr>\n",
       "      <th>1</th>\n",
       "      <td>44</td>\n",
       "      <td>M</td>\n",
       "      <td>No</td>\n",
       "      <td>No</td>\n",
       "      <td>No</td>\n",
       "      <td>No</td>\n",
       "      <td>No</td>\n",
       "    </tr>\n",
       "    <tr>\n",
       "      <th>2</th>\n",
       "      <td>32</td>\n",
       "      <td>Male</td>\n",
       "      <td>No</td>\n",
       "      <td>No</td>\n",
       "      <td>No</td>\n",
       "      <td>Yes</td>\n",
       "      <td>Yes</td>\n",
       "    </tr>\n",
       "    <tr>\n",
       "      <th>3</th>\n",
       "      <td>31</td>\n",
       "      <td>Male</td>\n",
       "      <td>Yes</td>\n",
       "      <td>Yes</td>\n",
       "      <td>No</td>\n",
       "      <td>Some of them</td>\n",
       "      <td>No</td>\n",
       "    </tr>\n",
       "    <tr>\n",
       "      <th>4</th>\n",
       "      <td>31</td>\n",
       "      <td>Male</td>\n",
       "      <td>No</td>\n",
       "      <td>No</td>\n",
       "      <td>Yes</td>\n",
       "      <td>Some of them</td>\n",
       "      <td>Yes</td>\n",
       "    </tr>\n",
       "  </tbody>\n",
       "</table>\n",
       "</div>"
      ],
      "text/plain": [
       "   Age  Gender family_history treatment remote_work     coworkers supervisor\n",
       "0   37  Female             No       Yes          No  Some of them        Yes\n",
       "1   44       M             No        No          No            No         No\n",
       "2   32    Male             No        No          No           Yes        Yes\n",
       "3   31    Male            Yes       Yes          No  Some of them         No\n",
       "4   31    Male             No        No         Yes  Some of them        Yes"
      ]
     },
     "execution_count": 570,
     "metadata": {},
     "output_type": "execute_result"
    }
   ],
   "source": [
    "#FILL IN - Inspecting the dataframe visually\n",
    "employees_df.head()"
   ]
  },
  {
   "cell_type": "code",
   "execution_count": 571,
   "metadata": {
    "id": "c8JK4DoXxtFA"
   },
   "outputs": [
    {
     "name": "stdout",
     "output_type": "stream",
     "text": [
      "<class 'pandas.core.frame.DataFrame'>\n",
      "RangeIndex: 1259 entries, 0 to 1258\n",
      "Data columns (total 7 columns):\n",
      " #   Column          Non-Null Count  Dtype \n",
      "---  ------          --------------  ----- \n",
      " 0   Age             1259 non-null   int64 \n",
      " 1   Gender          1259 non-null   object\n",
      " 2   family_history  1259 non-null   object\n",
      " 3   treatment       1259 non-null   object\n",
      " 4   remote_work     1259 non-null   object\n",
      " 5   coworkers       1259 non-null   object\n",
      " 6   supervisor      1259 non-null   object\n",
      "dtypes: int64(1), object(6)\n",
      "memory usage: 69.0+ KB\n"
     ]
    }
   ],
   "source": [
    "#FILL IN - Inspecting the dataframe programmatically\n",
    "employees_df.info()"
   ]
  },
  {
   "cell_type": "markdown",
   "metadata": {},
   "source": [
    "Issue and justification: The issue at hand is that in the employees dataset, there are two columns named \"coworkers\" and \"supervisor\" that indicate whether an employee would be willing to discuss a mental health issue with their coworkers and direct supervisors, respectively. However, in the students dataset, there is a single column named \"social_support\" that represents whether students social support 'Moderate', 'Low', 'High'. To continue the analysis and compare the two datasets, it is necessary to address this discrepancy."
   ]
  },
  {
   "cell_type": "markdown",
   "metadata": {
    "id": "D6gmLnBttpCh"
   },
   "source": [
    "## 3. Clean data"
   ]
  },
  {
   "cell_type": "markdown",
   "metadata": {},
   "source": [
    "* Note: \"Make copies of the datasets to ensure the raw dataframes\" is alredy done after gathering data"
   ]
  },
  {
   "cell_type": "markdown",
   "metadata": {
    "id": "FmFhN52Yyn3l"
   },
   "source": [
    "### **Issue : having some student that don't meet our requirements**"
   ]
  },
  {
   "cell_type": "code",
   "execution_count": 572,
   "metadata": {
    "id": "9UejDWrNMW4a"
   },
   "outputs": [],
   "source": [
    "# The cleaning strategy: drop Medical student\n",
    "students_df = students_df.drop(students_df[students_df['Course'] == 'Medical'].index)"
   ]
  },
  {
   "cell_type": "code",
   "execution_count": 573,
   "metadata": {
    "id": "oUBee-LPytkv"
   },
   "outputs": [
    {
     "data": {
      "text/plain": [
       "array(['Others', 'Engineering', 'Business', 'Computer Science', 'Law'],\n",
       "      dtype=object)"
      ]
     },
     "execution_count": 573,
     "metadata": {},
     "output_type": "execute_result"
    }
   ],
   "source": [
    "# Validate the cleaning was successful: Medical students are no longer exist in our dataset\n",
    "students_df['Course'].unique()"
   ]
  },
  {
   "cell_type": "code",
   "execution_count": 574,
   "metadata": {},
   "outputs": [],
   "source": [
    "# The cleaning strategy: drop with familly\n",
    "students_df = students_df.drop(students_df[students_df['Residence_Type'] == 'With Family'].index)"
   ]
  },
  {
   "cell_type": "code",
   "execution_count": 575,
   "metadata": {},
   "outputs": [
    {
     "data": {
      "text/plain": [
       "array(['On-Campus', 'Off-Campus'], dtype=object)"
      ]
     },
     "execution_count": 575,
     "metadata": {},
     "output_type": "execute_result"
    }
   ],
   "source": [
    "# Validate the cleaning was successful: students with \"with familly\" as Residence_Type are no longer exist in our dataset\n",
    "students_df['Residence_Type'].unique()"
   ]
  },
  {
   "cell_type": "code",
   "execution_count": 576,
   "metadata": {},
   "outputs": [],
   "source": [
    "# The cleaning strategy: drop age > 25 \n",
    "students_df = students_df.drop(students_df[students_df['Age'] > 25].index)"
   ]
  },
  {
   "cell_type": "code",
   "execution_count": 577,
   "metadata": {},
   "outputs": [
    {
     "data": {
      "text/plain": [
       "array([25, 24, 19, 18, 21, 23, 22, 20])"
      ]
     },
     "execution_count": 577,
     "metadata": {},
     "output_type": "execute_result"
    }
   ],
   "source": [
    "# Validate the cleaning was successful: there is longer age > 25\n",
    "students_df['Age'].unique()"
   ]
  },
  {
   "cell_type": "markdown",
   "metadata": {},
   "source": [
    "Justification: By applying these filters and dropping the irrelevant data, we can focus on the specific group of students that meet our requirements for this analysis."
   ]
  },
  {
   "cell_type": "markdown",
   "metadata": {
    "id": "n_DAUbJrymBL"
   },
   "source": [
    "###  Quality Issue 1: Accuracy issue with gender column & Quality Issue 2: inconsistency with gender column"
   ]
  },
  {
   "cell_type": "markdown",
   "metadata": {},
   "source": [
    "The cleaning strategy: first we will convert the values ['male', 'M', 'm', 'Man'] to 'Male' and convert the values ['female', 'F', 'f', 'Woman'] to 'Female' and drop the rest this will help us with both data quality Issue we found in the gender column"
   ]
  },
  {
   "cell_type": "markdown",
   "metadata": {},
   "source": [
    "#### Step 1: Dropping"
   ]
  },
  {
   "cell_type": "code",
   "execution_count": 578,
   "metadata": {},
   "outputs": [],
   "source": [
    "employees_df = employees_df[employees_df['Gender'].isin(['Male', 'male', 'M', 'm', 'Man', 'Female', 'female', 'F', 'f', 'Woman'])]"
   ]
  },
  {
   "cell_type": "code",
   "execution_count": 579,
   "metadata": {},
   "outputs": [
    {
     "data": {
      "text/plain": [
       "Male      615\n",
       "male      206\n",
       "Female    121\n",
       "M         116\n",
       "female     62\n",
       "F          38\n",
       "m          34\n",
       "f          15\n",
       "Woman       3\n",
       "Man         2\n",
       "Name: Gender, dtype: int64"
      ]
     },
     "execution_count": 579,
     "metadata": {},
     "output_type": "execute_result"
    }
   ],
   "source": [
    "# Validate \n",
    "gender_counts = employees_df['Gender'].value_counts()\n",
    "gender_counts"
   ]
  },
  {
   "cell_type": "markdown",
   "metadata": {},
   "source": [
    "#### Step 2: convert the values"
   ]
  },
  {
   "cell_type": "code",
   "execution_count": 580,
   "metadata": {
    "id": "5Yfb-Yu5MTuE"
   },
   "outputs": [],
   "source": [
    "# convert the values\n",
    "gender_mapping = {'Male': ['Male', 'male', 'M', 'm', 'Man'],\n",
    "                  'Female': ['Female', 'female', 'F', 'f', 'Woman']}\n",
    "# Iterate over each key-value pair in the gender_mapping dictionary\n",
    "for gender, variations in gender_mapping.items():\n",
    "    employees_df['Gender'] = employees_df['Gender'].replace(variations, gender)"
   ]
  },
  {
   "cell_type": "code",
   "execution_count": 581,
   "metadata": {
    "id": "ionB2sRaMUmY"
   },
   "outputs": [
    {
     "data": {
      "text/plain": [
       "Male      973\n",
       "Female    239\n",
       "Name: Gender, dtype: int64"
      ]
     },
     "execution_count": 581,
     "metadata": {},
     "output_type": "execute_result"
    }
   ],
   "source": [
    "# Validate \n",
    "gender_counts = employees_df['Gender'].value_counts()\n",
    "gender_counts"
   ]
  },
  {
   "cell_type": "markdown",
   "metadata": {},
   "source": [
    "Justification: This approach will help standardize the representation of gender in our dataset and maintain consistency. By doing so, we can conduct a fair analysis and make meaningful comparisons between the male and female categories in both datasets."
   ]
  },
  {
   "cell_type": "markdown",
   "metadata": {
    "id": "bIUrrfSNyOPR"
   },
   "source": [
    "### Issue: The structure of the \"Counseling_Service_Use\" column in students dataset**"
   ]
  },
  {
   "cell_type": "code",
   "execution_count": 582,
   "metadata": {
    "id": "fib0zAm333bn"
   },
   "outputs": [],
   "source": [
    "#Apply the cleaning strategy\n",
    "service_use_mapping = {'Yes': ['Occasionally', 'Frequently'],\n",
    "                  'No': ['Never']}\n",
    "for value, service_use in service_use_mapping.items():\n",
    "    students_df['Counseling_Service_Use'] = students_df['Counseling_Service_Use'].replace(service_use, value)"
   ]
  },
  {
   "cell_type": "code",
   "execution_count": 583,
   "metadata": {
    "id": "yhrnUGY_Nk8B"
   },
   "outputs": [
    {
     "data": {
      "text/plain": [
       "array(['No', 'Yes'], dtype=object)"
      ]
     },
     "execution_count": 583,
     "metadata": {},
     "output_type": "execute_result"
    }
   ],
   "source": [
    "# Validate the cleaning was successful\n",
    "students_df['Counseling_Service_Use'].unique()"
   ]
  },
  {
   "cell_type": "code",
   "execution_count": 584,
   "metadata": {},
   "outputs": [
    {
     "data": {
      "text/plain": [
       "array(['Yes', 'No'], dtype=object)"
      ]
     },
     "execution_count": 584,
     "metadata": {},
     "output_type": "execute_result"
    }
   ],
   "source": [
    "# check the employees dataset\n",
    "employees_df['treatment'].unique()"
   ]
  },
  {
   "cell_type": "markdown",
   "metadata": {},
   "source": [
    "Justification: To ensure consistency and facilitate the merging process, we need to modify the categorical values in the \"social_support\" column of the student dataset and the \"treatment\" column of the employee dataset. Specifically, we will change the categorical values in both columns to \"Yes\" and \"No\". This adjustment will enable us to merge the columns effectively and accurately compare the data between the two datasets."
   ]
  },
  {
   "cell_type": "markdown",
   "metadata": {},
   "source": [
    "### Tidiness Issue 2: Multiple Observational Units in a Single Table"
   ]
  },
  {
   "cell_type": "code",
   "execution_count": 585,
   "metadata": {},
   "outputs": [],
   "source": [
    "students_df.reset_index(inplace=True)\n",
    "students_df.rename(columns={'index': 'id'}, inplace=True)"
   ]
  },
  {
   "cell_type": "code",
   "execution_count": 586,
   "metadata": {},
   "outputs": [],
   "source": [
    "# Split the data into two separate tables\n",
    "influences_df = students_df[['id', 'Stress_Level', 'Depression_Score', 'Anxiety_Score', 'Sleep_Quality', 'Physical_Activity', \n",
    "                              'Diet_Quality','Substance_Use', 'Chronic_Illness', 'Financial_Stress']]"
   ]
  },
  {
   "cell_type": "code",
   "execution_count": 587,
   "metadata": {},
   "outputs": [],
   "source": [
    "students_df = students_df[['id', 'Gender', 'Course','Social_Support', 'Counseling_Service_Use', \n",
    "                           'Family_History'  , 'Residence_Type']]"
   ]
  },
  {
   "cell_type": "code",
   "execution_count": 588,
   "metadata": {},
   "outputs": [],
   "source": [
    "# saving data\n",
    "\n",
    "# Save influences_df as CSV\n",
    "influences_df.to_csv('students_influences_df.csv', index=False)\n",
    "\n",
    "# Save students_df as CSV\n",
    "students_df.to_csv('students_data_without_influences.csv', index=False)"
   ]
  },
  {
   "cell_type": "markdown",
   "metadata": {},
   "source": [
    "Justification: By splitting the data into two separate tables (influences_df and students_df), the code aims to separate different observational units into distinct tables, making the data more organized and easier to analyze."
   ]
  },
  {
   "cell_type": "markdown",
   "metadata": {
    "id": "o51Bt8kwyTzk"
   },
   "source": [
    "### **Tidiness Issue 2: Discrepancy in Mental Health Support Columns between Employees and Students Datasets**"
   ]
  },
  {
   "cell_type": "markdown",
   "metadata": {},
   "source": [
    "The students have 'Moderate', 'Low', and 'High' as values for the 'Social_Support' attribute, while employees have 'Some of them', 'No', and 'Yes' for both 'coworkers' and 'supervisor'. Considering that the students' 'Social_Support' attribute is more general and may include family support, we will work with the available data by mapping it as follows:\n",
    "\n",
    "* 'Some of them' will be mapped to 'Moderate'\n",
    "* 'No' will be mapped to 'Low'\n",
    "* 'Yes' will be mapped to 'High'\n",
    "\n",
    "Additionally, we will select the highest value between 'coworkers' and 'supervisor'. For example, if 'coworkers' is 'Yes' and 'supervisor' is 'No', we will take 'Yes' as the final value."
   ]
  },
  {
   "cell_type": "code",
   "execution_count": 589,
   "metadata": {},
   "outputs": [],
   "source": [
    "def select_highest_value(row):\n",
    "    if row['coworkers'] == 'Yes' or row['supervisor'] == 'Yes':\n",
    "        return 'Yes'\n",
    "    elif row['coworkers'] == 'Some of them'or row['supervisor'] == 'Some of them':\n",
    "        return 'Some of them'\n",
    "    else:\n",
    "        return 'No'"
   ]
  },
  {
   "cell_type": "code",
   "execution_count": 590,
   "metadata": {
    "id": "7zW8O5yx4Y9O"
   },
   "outputs": [],
   "source": [
    "#FILL IN - Apply the cleaning strategy\n",
    "employees_df['social_support'] = employees_df.apply(select_highest_value, axis=1)"
   ]
  },
  {
   "cell_type": "code",
   "execution_count": 591,
   "metadata": {},
   "outputs": [
    {
     "data": {
      "text/html": [
       "<div>\n",
       "<style scoped>\n",
       "    .dataframe tbody tr th:only-of-type {\n",
       "        vertical-align: middle;\n",
       "    }\n",
       "\n",
       "    .dataframe tbody tr th {\n",
       "        vertical-align: top;\n",
       "    }\n",
       "\n",
       "    .dataframe thead th {\n",
       "        text-align: right;\n",
       "    }\n",
       "</style>\n",
       "<table border=\"1\" class=\"dataframe\">\n",
       "  <thead>\n",
       "    <tr style=\"text-align: right;\">\n",
       "      <th></th>\n",
       "      <th>Age</th>\n",
       "      <th>Gender</th>\n",
       "      <th>family_history</th>\n",
       "      <th>treatment</th>\n",
       "      <th>remote_work</th>\n",
       "      <th>coworkers</th>\n",
       "      <th>supervisor</th>\n",
       "      <th>social_support</th>\n",
       "    </tr>\n",
       "  </thead>\n",
       "  <tbody>\n",
       "    <tr>\n",
       "      <th>0</th>\n",
       "      <td>37</td>\n",
       "      <td>Female</td>\n",
       "      <td>No</td>\n",
       "      <td>Yes</td>\n",
       "      <td>No</td>\n",
       "      <td>Some of them</td>\n",
       "      <td>Yes</td>\n",
       "      <td>Yes</td>\n",
       "    </tr>\n",
       "    <tr>\n",
       "      <th>1</th>\n",
       "      <td>44</td>\n",
       "      <td>Male</td>\n",
       "      <td>No</td>\n",
       "      <td>No</td>\n",
       "      <td>No</td>\n",
       "      <td>No</td>\n",
       "      <td>No</td>\n",
       "      <td>No</td>\n",
       "    </tr>\n",
       "    <tr>\n",
       "      <th>2</th>\n",
       "      <td>32</td>\n",
       "      <td>Male</td>\n",
       "      <td>No</td>\n",
       "      <td>No</td>\n",
       "      <td>No</td>\n",
       "      <td>Yes</td>\n",
       "      <td>Yes</td>\n",
       "      <td>Yes</td>\n",
       "    </tr>\n",
       "    <tr>\n",
       "      <th>3</th>\n",
       "      <td>31</td>\n",
       "      <td>Male</td>\n",
       "      <td>Yes</td>\n",
       "      <td>Yes</td>\n",
       "      <td>No</td>\n",
       "      <td>Some of them</td>\n",
       "      <td>No</td>\n",
       "      <td>Some of them</td>\n",
       "    </tr>\n",
       "    <tr>\n",
       "      <th>4</th>\n",
       "      <td>31</td>\n",
       "      <td>Male</td>\n",
       "      <td>No</td>\n",
       "      <td>No</td>\n",
       "      <td>Yes</td>\n",
       "      <td>Some of them</td>\n",
       "      <td>Yes</td>\n",
       "      <td>Yes</td>\n",
       "    </tr>\n",
       "  </tbody>\n",
       "</table>\n",
       "</div>"
      ],
      "text/plain": [
       "   Age  Gender family_history treatment remote_work     coworkers supervisor  \\\n",
       "0   37  Female             No       Yes          No  Some of them        Yes   \n",
       "1   44    Male             No        No          No            No         No   \n",
       "2   32    Male             No        No          No           Yes        Yes   \n",
       "3   31    Male            Yes       Yes          No  Some of them         No   \n",
       "4   31    Male             No        No         Yes  Some of them        Yes   \n",
       "\n",
       "  social_support  \n",
       "0            Yes  \n",
       "1             No  \n",
       "2            Yes  \n",
       "3   Some of them  \n",
       "4            Yes  "
      ]
     },
     "execution_count": 591,
     "metadata": {},
     "output_type": "execute_result"
    }
   ],
   "source": [
    "employees_df.head()"
   ]
  },
  {
   "cell_type": "code",
   "execution_count": 592,
   "metadata": {},
   "outputs": [],
   "source": [
    "mapping = {'Moderate': 'Some of them', 'Low': 'No', 'High': 'Yes'}\n",
    "for support, variations in mapping.items():\n",
    "    employees_df['social_support'] = employees_df['social_support'].replace(variations, support)"
   ]
  },
  {
   "cell_type": "code",
   "execution_count": 593,
   "metadata": {
    "id": "q6I_Sr7lxXi5"
   },
   "outputs": [
    {
     "data": {
      "text/plain": [
       "array(['High', 'Low', 'Moderate'], dtype=object)"
      ]
     },
     "execution_count": 593,
     "metadata": {},
     "output_type": "execute_result"
    }
   ],
   "source": [
    "#Validate the cleaning was successful\n",
    "employees_df['social_support'].unique()"
   ]
  },
  {
   "cell_type": "markdown",
   "metadata": {},
   "source": [
    "Justification: By mapping the values and selecting the highest value, we can effectively represent the different levels of social support for both students and employees. This approach takes into consideration the general nature of students' social support and ensures that the highest level of support is reflected in the final value."
   ]
  },
  {
   "cell_type": "code",
   "execution_count": 594,
   "metadata": {},
   "outputs": [
    {
     "data": {
      "text/plain": [
       "array(['Yes', 'No'], dtype=object)"
      ]
     },
     "execution_count": 594,
     "metadata": {},
     "output_type": "execute_result"
    }
   ],
   "source": [
    "# we also need to map On-Campus to yes and off-Campus to no in the Residence_Type column \n",
    "# in the students dataset to be like the remote_work in the employees_df \n",
    "mapping = {'Yes': 'On-Campus', 'No': 'Off-Campus'}\n",
    "for residence_Type, variations in mapping.items():\n",
    "    students_df['Residence_Type'] = students_df['Residence_Type'].replace(variations, residence_Type)\n",
    "    \n",
    "students_df['Residence_Type'].unique()"
   ]
  },
  {
   "cell_type": "markdown",
   "metadata": {},
   "source": [
    "### **Remove unnecessary variables and combine datasets**\n",
    "\n"
   ]
  },
  {
   "cell_type": "code",
   "execution_count": 595,
   "metadata": {},
   "outputs": [],
   "source": [
    "#Remove unnecessary variables and combine datasets : employees_df\n",
    "employees_df.drop(['coworkers', 'supervisor'], axis=1, inplace=True)"
   ]
  },
  {
   "cell_type": "code",
   "execution_count": 596,
   "metadata": {},
   "outputs": [
    {
     "data": {
      "text/html": [
       "<div>\n",
       "<style scoped>\n",
       "    .dataframe tbody tr th:only-of-type {\n",
       "        vertical-align: middle;\n",
       "    }\n",
       "\n",
       "    .dataframe tbody tr th {\n",
       "        vertical-align: top;\n",
       "    }\n",
       "\n",
       "    .dataframe thead th {\n",
       "        text-align: right;\n",
       "    }\n",
       "</style>\n",
       "<table border=\"1\" class=\"dataframe\">\n",
       "  <thead>\n",
       "    <tr style=\"text-align: right;\">\n",
       "      <th></th>\n",
       "      <th>Age</th>\n",
       "      <th>Gender</th>\n",
       "      <th>family_history</th>\n",
       "      <th>treatment</th>\n",
       "      <th>remote_work</th>\n",
       "      <th>social_support</th>\n",
       "      <th>type</th>\n",
       "    </tr>\n",
       "  </thead>\n",
       "  <tbody>\n",
       "    <tr>\n",
       "      <th>0</th>\n",
       "      <td>37</td>\n",
       "      <td>Female</td>\n",
       "      <td>No</td>\n",
       "      <td>Yes</td>\n",
       "      <td>No</td>\n",
       "      <td>High</td>\n",
       "      <td>Employee</td>\n",
       "    </tr>\n",
       "    <tr>\n",
       "      <th>1</th>\n",
       "      <td>44</td>\n",
       "      <td>Male</td>\n",
       "      <td>No</td>\n",
       "      <td>No</td>\n",
       "      <td>No</td>\n",
       "      <td>Low</td>\n",
       "      <td>Employee</td>\n",
       "    </tr>\n",
       "    <tr>\n",
       "      <th>2</th>\n",
       "      <td>32</td>\n",
       "      <td>Male</td>\n",
       "      <td>No</td>\n",
       "      <td>No</td>\n",
       "      <td>No</td>\n",
       "      <td>High</td>\n",
       "      <td>Employee</td>\n",
       "    </tr>\n",
       "    <tr>\n",
       "      <th>3</th>\n",
       "      <td>31</td>\n",
       "      <td>Male</td>\n",
       "      <td>Yes</td>\n",
       "      <td>Yes</td>\n",
       "      <td>No</td>\n",
       "      <td>Moderate</td>\n",
       "      <td>Employee</td>\n",
       "    </tr>\n",
       "    <tr>\n",
       "      <th>4</th>\n",
       "      <td>31</td>\n",
       "      <td>Male</td>\n",
       "      <td>No</td>\n",
       "      <td>No</td>\n",
       "      <td>Yes</td>\n",
       "      <td>High</td>\n",
       "      <td>Employee</td>\n",
       "    </tr>\n",
       "  </tbody>\n",
       "</table>\n",
       "</div>"
      ],
      "text/plain": [
       "   Age  Gender family_history treatment remote_work social_support      type\n",
       "0   37  Female             No       Yes          No           High  Employee\n",
       "1   44    Male             No        No          No            Low  Employee\n",
       "2   32    Male             No        No          No           High  Employee\n",
       "3   31    Male            Yes       Yes          No       Moderate  Employee\n",
       "4   31    Male             No        No         Yes           High  Employee"
      ]
     },
     "execution_count": 596,
     "metadata": {},
     "output_type": "execute_result"
    }
   ],
   "source": [
    "employees_df['type'] = 'Employee'\n",
    "employees_df.head()"
   ]
  },
  {
   "cell_type": "code",
   "execution_count": 597,
   "metadata": {},
   "outputs": [],
   "source": [
    "# change employees df columns names\n",
    "employees_df = employees_df.rename(columns={\n",
    "    'Age': 'age',\n",
    "    'Gender': 'gender',\n",
    "    'remote_work': 'remotely',\n",
    "    'treatment': 'counseling_service_use'\n",
    "})"
   ]
  },
  {
   "cell_type": "code",
   "execution_count": 598,
   "metadata": {},
   "outputs": [
    {
     "name": "stdout",
     "output_type": "stream",
     "text": [
      "<class 'pandas.core.frame.DataFrame'>\n",
      "Int64Index: 1212 entries, 0 to 1258\n",
      "Data columns (total 7 columns):\n",
      " #   Column                  Non-Null Count  Dtype \n",
      "---  ------                  --------------  ----- \n",
      " 0   age                     1212 non-null   int64 \n",
      " 1   gender                  1212 non-null   object\n",
      " 2   family_history          1212 non-null   object\n",
      " 3   counseling_service_use  1212 non-null   object\n",
      " 4   remotely                1212 non-null   object\n",
      " 5   social_support          1212 non-null   object\n",
      " 6   type                    1212 non-null   object\n",
      "dtypes: int64(1), object(6)\n",
      "memory usage: 75.8+ KB\n"
     ]
    }
   ],
   "source": [
    "employees_df.info()"
   ]
  },
  {
   "cell_type": "code",
   "execution_count": 599,
   "metadata": {},
   "outputs": [],
   "source": [
    "#Remove unnecessary variables and combine datasets : students_df\n",
    "students_df.drop(['Course', 'id'], axis=1, inplace=True)"
   ]
  },
  {
   "cell_type": "code",
   "execution_count": 600,
   "metadata": {},
   "outputs": [
    {
     "data": {
      "text/html": [
       "<div>\n",
       "<style scoped>\n",
       "    .dataframe tbody tr th:only-of-type {\n",
       "        vertical-align: middle;\n",
       "    }\n",
       "\n",
       "    .dataframe tbody tr th {\n",
       "        vertical-align: top;\n",
       "    }\n",
       "\n",
       "    .dataframe thead th {\n",
       "        text-align: right;\n",
       "    }\n",
       "</style>\n",
       "<table border=\"1\" class=\"dataframe\">\n",
       "  <thead>\n",
       "    <tr style=\"text-align: right;\">\n",
       "      <th></th>\n",
       "      <th>Gender</th>\n",
       "      <th>Social_Support</th>\n",
       "      <th>Counseling_Service_Use</th>\n",
       "      <th>Family_History</th>\n",
       "      <th>Residence_Type</th>\n",
       "      <th>type</th>\n",
       "    </tr>\n",
       "  </thead>\n",
       "  <tbody>\n",
       "    <tr>\n",
       "      <th>0</th>\n",
       "      <td>Male</td>\n",
       "      <td>Moderate</td>\n",
       "      <td>No</td>\n",
       "      <td>No</td>\n",
       "      <td>Yes</td>\n",
       "      <td>Student</td>\n",
       "    </tr>\n",
       "    <tr>\n",
       "      <th>1</th>\n",
       "      <td>Female</td>\n",
       "      <td>Low</td>\n",
       "      <td>Yes</td>\n",
       "      <td>No</td>\n",
       "      <td>Yes</td>\n",
       "      <td>Student</td>\n",
       "    </tr>\n",
       "    <tr>\n",
       "      <th>2</th>\n",
       "      <td>Female</td>\n",
       "      <td>Moderate</td>\n",
       "      <td>Yes</td>\n",
       "      <td>No</td>\n",
       "      <td>Yes</td>\n",
       "      <td>Student</td>\n",
       "    </tr>\n",
       "    <tr>\n",
       "      <th>3</th>\n",
       "      <td>Male</td>\n",
       "      <td>Moderate</td>\n",
       "      <td>No</td>\n",
       "      <td>No</td>\n",
       "      <td>No</td>\n",
       "      <td>Student</td>\n",
       "    </tr>\n",
       "    <tr>\n",
       "      <th>4</th>\n",
       "      <td>Male</td>\n",
       "      <td>High</td>\n",
       "      <td>No</td>\n",
       "      <td>No</td>\n",
       "      <td>Yes</td>\n",
       "      <td>Student</td>\n",
       "    </tr>\n",
       "  </tbody>\n",
       "</table>\n",
       "</div>"
      ],
      "text/plain": [
       "   Gender Social_Support Counseling_Service_Use Family_History Residence_Type  \\\n",
       "0    Male       Moderate                     No             No            Yes   \n",
       "1  Female            Low                    Yes             No            Yes   \n",
       "2  Female       Moderate                    Yes             No            Yes   \n",
       "3    Male       Moderate                     No             No             No   \n",
       "4    Male           High                     No             No            Yes   \n",
       "\n",
       "      type  \n",
       "0  Student  \n",
       "1  Student  \n",
       "2  Student  \n",
       "3  Student  \n",
       "4  Student  "
      ]
     },
     "execution_count": 600,
     "metadata": {},
     "output_type": "execute_result"
    }
   ],
   "source": [
    "students_df['type'] = 'Student'\n",
    "students_df.head()"
   ]
  },
  {
   "cell_type": "code",
   "execution_count": 601,
   "metadata": {},
   "outputs": [],
   "source": [
    "# change students df columns names\n",
    "students_df = students_df.rename(columns={\n",
    "    'Age': 'age',\n",
    "    'Gender': 'gender',\n",
    "    'Social_Support': 'social_support',\n",
    "    'Counseling_Service_Use': 'counseling_service_use',\n",
    "    'Family_History': 'family_history',\n",
    "    'Residence_Type': 'remotely'\n",
    "})"
   ]
  },
  {
   "cell_type": "code",
   "execution_count": 602,
   "metadata": {},
   "outputs": [
    {
     "name": "stdout",
     "output_type": "stream",
     "text": [
      "<class 'pandas.core.frame.DataFrame'>\n",
      "RangeIndex: 2925 entries, 0 to 2924\n",
      "Data columns (total 6 columns):\n",
      " #   Column                  Non-Null Count  Dtype \n",
      "---  ------                  --------------  ----- \n",
      " 0   gender                  2925 non-null   object\n",
      " 1   social_support          2925 non-null   object\n",
      " 2   counseling_service_use  2925 non-null   object\n",
      " 3   family_history          2925 non-null   object\n",
      " 4   remotely                2925 non-null   object\n",
      " 5   type                    2925 non-null   object\n",
      "dtypes: object(6)\n",
      "memory usage: 137.2+ KB\n"
     ]
    }
   ],
   "source": [
    "students_df.info()"
   ]
  },
  {
   "cell_type": "code",
   "execution_count": 603,
   "metadata": {},
   "outputs": [],
   "source": [
    "#Since the number of students is greater than the number of employees, it can certainly impact your analysis. \n",
    "#to address this imbalance, we can randomly select a subset of 1212 students, which is equal \n",
    "#to the number of employees in our dataset.\n",
    "students_subset = students_df.sample(n=1212, random_state=42)"
   ]
  },
  {
   "cell_type": "code",
   "execution_count": 604,
   "metadata": {},
   "outputs": [
    {
     "name": "stdout",
     "output_type": "stream",
     "text": [
      "<class 'pandas.core.frame.DataFrame'>\n",
      "Int64Index: 2424 entries, 1047 to 1258\n",
      "Data columns (total 7 columns):\n",
      " #   Column                  Non-Null Count  Dtype  \n",
      "---  ------                  --------------  -----  \n",
      " 0   gender                  2424 non-null   object \n",
      " 1   social_support          2424 non-null   object \n",
      " 2   counseling_service_use  2424 non-null   object \n",
      " 3   family_history          2424 non-null   object \n",
      " 4   remotely                2424 non-null   object \n",
      " 5   type                    2424 non-null   object \n",
      " 6   age                     1212 non-null   float64\n",
      "dtypes: float64(1), object(6)\n",
      "memory usage: 151.5+ KB\n"
     ]
    }
   ],
   "source": [
    "# combine datasets\n",
    "df = pd.concat([students_subset, employees_df])\n",
    "df.info()"
   ]
  },
  {
   "cell_type": "markdown",
   "metadata": {
    "id": "F42urHuzttjF"
   },
   "source": [
    "## 4. Update your data store\n",
    "Update your local database/data store with the cleaned data, following best practices for storing your cleaned data:\n",
    "\n",
    "- Must maintain different instances / versions of data (raw and cleaned data)\n",
    "- Must name the dataset files informatively\n",
    "- Ensure both the raw and cleaned data is saved to your database/data store"
   ]
  },
  {
   "cell_type": "code",
   "execution_count": 605,
   "metadata": {
    "id": "V3uay7EJUV_L"
   },
   "outputs": [],
   "source": [
    "# saving data\n",
    "\n",
    "# Save employees_df as CSV\n",
    "employees_df.to_csv('clean_employees_data.csv', index=False)\n",
    "\n",
    "# Save students_df as CSV\n",
    "students_df.to_csv('clean_students_data.csv', index=False)\n",
    "\n",
    "# Save df as CSV\n",
    "df.to_csv('final_data.csv', index=False)"
   ]
  },
  {
   "cell_type": "markdown",
   "metadata": {
    "id": "cGy_yddGtzhM"
   },
   "source": [
    "## 5. Answer the research question\n",
    "\n",
    "### **5.1:** Define and answer the research question \n",
    "Going back to the problem statement in step 1, use the cleaned data to answer the question you raised. Produce **at least** two visualizations using the cleaned data and explain how they help you answer the question."
   ]
  },
  {
   "cell_type": "code",
   "execution_count": 606,
   "metadata": {},
   "outputs": [],
   "source": [
    "def chart(col1, col2, xlabel, ylabel, title):\n",
    "    cross_tab = pd.crosstab(df[col1], df[col2])\n",
    "    \n",
    "    # Plot the cross-tabulation as a stacked bar chart\n",
    "    cross_tab.plot(kind='bar', stacked=True)\n",
    "\n",
    "    # Set the labels and title\n",
    "    plt.xlabel(xlabel)\n",
    "    plt.ylabel(ylabel)\n",
    "    plt.title(title)\n",
    "\n",
    "    # Show the plot\n",
    "    plt.show()"
   ]
  },
  {
   "cell_type": "markdown",
   "metadata": {
    "id": "gjedE4s4ZkEd"
   },
   "source": [
    "#### Does the remote work arrangement affect the likelihood of using counseling services?"
   ]
  },
  {
   "cell_type": "code",
   "execution_count": 607,
   "metadata": {},
   "outputs": [
    {
     "data": {
      "image/png": "[encoded data removed]",
      "text/plain": [
       "<Figure size 432x288 with 1 Axes>"
      ]
     },
     "metadata": {
      "needs_background": "light"
     },
     "output_type": "display_data"
    }
   ],
   "source": [
    "chart('remotely', 'counseling_service_use', 'Remote Work Arrangement', \n",
    "      'Count', 'Counseling Service Use by Remote Work Arrangement')"
   ]
  },
  {
   "cell_type": "markdown",
   "metadata": {},
   "source": [
    "*Answer:* First, it's important to notice that we have only about 900 individuals who are working/studying remotely, compared to those who are in-person, which might impact our analysis. However, based on the available data, it appears that people who work/study remotely are less likely to use counseling services."
   ]
  },
  {
   "cell_type": "markdown",
   "metadata": {},
   "source": [
    "#### Does having a family history of mental health issues impact the use of counseling services?"
   ]
  },
  {
   "cell_type": "code",
   "execution_count": 608,
   "metadata": {
    "id": "6fdK_8ZGZm9R"
   },
   "outputs": [
    {
     "data": {
      "image/png": "[encoded data removed]",
      "text/plain": [
       "<Figure size 432x288 with 1 Axes>"
      ]
     },
     "metadata": {
      "needs_background": "light"
     },
     "output_type": "display_data"
    }
   ],
   "source": [
    "chart('family_history', 'counseling_service_use', 'Family History Arrangement', \n",
    "      'Count', 'Counseling Service Use by Family History Arrangement')"
   ]
  },
  {
   "cell_type": "code",
   "execution_count": 609,
   "metadata": {},
   "outputs": [
    {
     "name": "stderr",
     "output_type": "stream",
     "text": [
      "<ipython-input-609-fcf87af90738>:8: MatplotlibDeprecationWarning: normalize=None does not normalize if the sum is less than 1 but this behavior is deprecated since 3.3 until two minor releases later. After the deprecation period the default value will be normalize=True. To prevent normalization pass normalize=False \n",
      "  plt.pie(percentages, labels=cross_tab.index, autopct='%1.1f%%')\n"
     ]
    },
    {
     "data": {
      "image/png": "[encoded data removed]",
      "text/plain": [
       "<Figure size 432x288 with 1 Axes>"
      ]
     },
     "metadata": {},
     "output_type": "display_data"
    }
   ],
   "source": [
    "# pie\n",
    "cross_tab = pd.crosstab(df['family_history'], df['counseling_service_use'])\n",
    "\n",
    "# Calculate the percentage of counseling service use for each remote work arrangement\n",
    "percentages = cross_tab['Yes'] / cross_tab.sum(axis=1)\n",
    "\n",
    "# Create a pie chart\n",
    "plt.pie(percentages, labels=cross_tab.index, autopct='%1.1f%%')\n",
    "\n",
    "# Set the title\n",
    "plt.title('Counseling Service Use by Family History Arrangement')\n",
    "\n",
    "# Show the plot\n",
    "plt.show()"
   ]
  },
  {
   "cell_type": "markdown",
   "metadata": {
    "id": "K5RgvMGUZoHn"
   },
   "source": [
    "*Answer:* In our dataset, we have more individuals with no family history. However, based on the charts, it is most likely to use counseling services if you have a family history. Interestingly, there is a noticeable number of people using counseling services even though they don't have a family history."
   ]
  },
  {
   "cell_type": "markdown",
   "metadata": {},
   "source": [
    "#### Is there a difference in social support levels between students and employees?"
   ]
  },
  {
   "cell_type": "code",
   "execution_count": 610,
   "metadata": {},
   "outputs": [
    {
     "data": {
      "image/png": "[encoded data removed]",
      "text/plain": [
       "<Figure size 432x288 with 1 Axes>"
      ]
     },
     "metadata": {
      "needs_background": "light"
     },
     "output_type": "display_data"
    }
   ],
   "source": [
    "sns.countplot(x='social_support', hue='type', data=df)\n",
    "\n",
    "# labels and title to the plot\n",
    "plt.xlabel('Social Support')\n",
    "plt.ylabel('Count')\n",
    "plt.title('Social Support Levels for Students and Employees')\n",
    "\n",
    "# Show the plot\n",
    "plt.show()"
   ]
  },
  {
   "cell_type": "markdown",
   "metadata": {},
   "source": [
    "*Answer:* There is no noticeable difference between students and employees in terms of social support levels, as clearly shown in the chart. Being an employee or a student does not seem to have an effect on the level of social support."
   ]
  },
  {
   "cell_type": "markdown",
   "metadata": {
    "id": "0ezWXXZVj-TP"
   },
   "source": [
    "### **5.2:** Reflection"
   ]
  },
  {
   "cell_type": "markdown",
   "metadata": {
    "id": "XB3RBDG5kFe1"
   },
   "source": [
    "If I had more time, I would have loved to gather more data to address the \"Data Collection Bias\" issue that arose during our analysis to answer the questions: \"Does the remote work arrangement affect the likelihood of using counseling services?\" and \"Does having a family history of mental health issues impact the use of counseling services?\". Additionally, with more time, I would like to explore the following questions:\n",
    "\n",
    "* How does age relate to the likelihood of using counseling services?\n",
    "* Are there any associations between social support levels and family history of mental health issues?\n",
    "\n",
    "By obtaining more data and conducting further analysis, we can gain a deeper understanding of these relationships and potentially uncover valuable insights."
   ]
  }
 ],
 "metadata": {
  "colab": {
   "provenance": []
  },
  "kernelspec": {
   "display_name": "Python 3",
   "language": "python",
   "name": "python3"
  },
  "language_info": {
   "codemirror_mode": {
    "name": "ipython",
    "version": 3
   },
   "file_extension": ".py",
   "mimetype": "text/x-python",
   "name": "python",
   "nbconvert_exporter": "python",
   "pygments_lexer": "ipython3",
   "version": "3.8.10"
  }
 },
 "nbformat": 4,
 "nbformat_minor": 1
}
